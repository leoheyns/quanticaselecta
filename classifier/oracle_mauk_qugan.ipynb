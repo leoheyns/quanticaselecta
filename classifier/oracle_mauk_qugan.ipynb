{
 "cells": [
  {
   "cell_type": "code",
   "execution_count": 206,
   "metadata": {},
   "outputs": [],
   "source": [
    "from qiskit import QuantumCircuit, QuantumRegister, ClassicalRegister, Aer, execute, circuit, extensions\n",
    "import matplotlib.pyplot as plt\n",
    "import math\n",
    "import numpy as np\n",
    "from functools import reduce\n",
    "import pandas as pd\n",
    "from sklearn.model_selection import train_test_split\n",
    "from qiskit.visualization import plot_bloch_multivector\n",
    "from qiskit.quantum_info import Statevector\n",
    "from datetime import datetime\n",
    "from qiskit.aqua.components.optimizers import COBYLA, ADAM, AQGD, NFT"
   ]
  },
  {
   "cell_type": "code",
   "execution_count": 125,
   "metadata": {},
   "outputs": [],
   "source": [
    "def normalize(l):\n",
    "    normalization_factor = math.sqrt(sum([i ** 2 for i in l]))\n",
    "    return [i / normalization_factor for i in l]\n",
    "\n",
    "def init_gate(init_states, label=None, size=None):\n",
    "    if not size:\n",
    "        size = math.ceil(math.log2(len(init_states)))\n",
    "    state_vector = normalize(init_states) + [0] * ((2 ** size) - len(init_states))\n",
    "    #I know this is way ugly, but it's the easiest way to actualy turn initialize() into a gate\n",
    "    return extensions.Initialize(state_vector).gates_to_uncompute().inverse().to_gate(label=label if label else None)"
   ]
  },
  {
   "cell_type": "code",
   "execution_count": 126,
   "metadata": {},
   "outputs": [],
   "source": [
    "def x_indices(i, bits):\n",
    "    indices = []\n",
    "    for j in range(bits):\n",
    "        bit = (i >> j) & 1\n",
    "        if not bit:\n",
    "            indices.append(j)\n",
    "    return indices"
   ]
  },
  {
   "cell_type": "code",
   "execution_count": 194,
   "metadata": {},
   "outputs": [],
   "source": [
    "def construct_oracle(data, labels):\n",
    "    # gate = init_gate([0,2,10], \"psi_0\")\n",
    "    data_bits = math.ceil(math.log2(data.shape[1]))\n",
    "    counting_bits = math.ceil(math.log2(data.shape[0]))\n",
    "#     print(len(data), data.shape[0])\n",
    "    q = QuantumRegister(data_bits + counting_bits + 1)\n",
    "    qc = QuantumCircuit(q)\n",
    "\n",
    "#     data = [[x,x*2,x**2] for x in range(1, 16)]\n",
    "    qc.h(q[data_bits + 1:])\n",
    "    for i in range(len(data)):\n",
    "        x_i = [data_bits + 1 + x_i for x_i in x_indices(i,counting_bits)]\n",
    "        if len(x_i) > 0:\n",
    "            qc.x(x_i)\n",
    "        gate = init_gate(data[i], f\"psi_{i}\", data_bits).control(counting_bits)\n",
    "        qc.append(gate, q[data_bits + 1:] + q[:data_bits])\n",
    "        if labels[i] == 1:\n",
    "            x_gate = circuit.library.XGate().control(counting_bits)\n",
    "            qc.append(x_gate, q[data_bits + 1:] + [q[data_bits]])\n",
    "\n",
    "        if len(x_i) > 0:\n",
    "            qc.x(x_i)\n",
    "    return qc, data_bits, counting_bits"
   ]
  },
  {
   "cell_type": "code",
   "execution_count": 128,
   "metadata": {},
   "outputs": [],
   "source": [
    "def destructive_swap(n):\n",
    "    q = QuantumRegister(n * 2)\n",
    "    circuit = QuantumCircuit(q)\n",
    "    \n",
    "    for i in range(n):\n",
    "        circuit.cx(i, n+i)\n",
    "        circuit.h(i)\n",
    "#     print(circuit)\n",
    "    return circuit.to_gate(label=\"destructive_swap\")\n"
   ]
  },
  {
   "cell_type": "code",
   "execution_count": 129,
   "metadata": {},
   "outputs": [],
   "source": [
    "def interpret_des_swap(counts):\n",
    "    successes = 0\n",
    "    for k in counts:\n",
    "        #success if and of measurement has even parity, that's what the paper said\n",
    "        success = reduce(lambda b, p: (p == ('1', '1')) ^ b , zip(list(k[:len(k)//2]), list(k[len(k)//2:])), True)\n",
    "#         print(k, success)\n",
    "#         success = k.count('1') % 2 == 0\n",
    "        if success:\n",
    "            successes += counts[k]\n",
    "    if sum(counts.values()) == 0:\n",
    "        return 0\n",
    "    return  2 * (successes / sum(counts.values())) - 1"
   ]
  },
  {
   "cell_type": "code",
   "execution_count": 130,
   "metadata": {},
   "outputs": [],
   "source": [
    "def construct_classifier(data, labels):\n",
    "    input_size = math.ceil(math.log2(data.shape[1]))\n",
    "    oracle, data_bits, counting_bits = construct_oracle(data, labels)\n",
    "    print(oracle)\n",
    "    oracle = oracle.to_gate(label=\"oracle\")\n",
    "    q = QuantumRegister(input_size + data_bits + counting_bits + 1)\n",
    "    c = ClassicalRegister(input_size * 2 + 1)\n",
    "    qc = QuantumCircuit(q, c)\n",
    "    \n",
    "    qc.append(oracle, q[input_size:])\n",
    "#     print(input_size)\n",
    "    qc.append(destructive_swap(input_size), q[:input_size] + q[input_size:input_size+input_size])\n",
    "    for i in range(input_size * 2 + 1):\n",
    "        qc.measure(i,i)\n",
    "    return qc\n"
   ]
  },
  {
   "cell_type": "code",
   "execution_count": 131,
   "metadata": {},
   "outputs": [],
   "source": [
    "df = pd.read_csv(\"bezdekIris.data\", header=None)"
   ]
  },
  {
   "cell_type": "code",
   "execution_count": 132,
   "metadata": {},
   "outputs": [],
   "source": [
    "df[4] = [0 if p == \"Iris-setosa\" else 1 if p == \"Iris-virginica\" else 2 for p in df[4]]\n",
    "df = df[df[4] != 2]"
   ]
  },
  {
   "cell_type": "code",
   "execution_count": 165,
   "metadata": {},
   "outputs": [],
   "source": [
    "train, test = train_test_split(df, test_size=0.36)\n",
    "data = train[[0,1]].to_numpy()\n",
    "labels = train[4].to_numpy()\n",
    "label0 = -1\n",
    "label1 = -1\n",
    "\n",
    "for i in range(len(labels)):\n",
    "    if labels[i] == 0:\n",
    "        label0 = i\n",
    "    if labels[i] == 1:\n",
    "        label1 = i\n",
    "        \n",
    "    if label0 != -1 and label1 != -1:\n",
    "        break\n",
    "\n",
    "data = data[[label0, label1]]\n",
    "labels = labels[[label0, label1]]"
   ]
  },
  {
   "cell_type": "code",
   "execution_count": 166,
   "metadata": {},
   "outputs": [
    {
     "data": {
      "image/png": "[encoded data removed]",
      "text/plain": [
       "<Figure size 432x288 with 1 Axes>"
      ]
     },
     "metadata": {
      "needs_background": "light"
     },
     "output_type": "display_data"
    }
   ],
   "source": [
    "plt.scatter(x=data[:, 0], y=data[:, 1], c=labels)\n",
    "plt.show()"
   ]
  },
  {
   "cell_type": "code",
   "execution_count": 167,
   "metadata": {},
   "outputs": [
    {
     "name": "stderr",
     "output_type": "stream",
     "text": [
      "/home/mauk/.local/lib/python3.8/site-packages/qiskit/visualization/bloch.py:69: MatplotlibDeprecationWarning: \n",
      "The M attribute was deprecated in Matplotlib 3.4 and will be removed two minor releases later. Use self.axes.M instead.\n",
      "  x_s, y_s, _ = proj3d.proj_transform(xs3d, ys3d, zs3d, renderer.M)\n"
     ]
    },
    {
     "data": {
      "image/png": "[encoded data removed]",
      "text/plain": [
       "<Figure size 288x288 with 1 Axes>"
      ]
     },
     "execution_count": 167,
     "metadata": {},
     "output_type": "execute_result"
    }
   ],
   "source": [
    "q = QuantumRegister(1)\n",
    "c = ClassicalRegister(1)\n",
    "qc = QuantumCircuit(q, c)\n",
    "\n",
    "inp_gate = init_gate([6.5, 3], label=\"input\", size=1)\n",
    "\n",
    "qc.append(inp_gate, q[0:1])\n",
    "\n",
    "state = Statevector.from_instruction(qc)\n",
    "plot_bloch_multivector(state, title=\"New Bloch Multivector\", reverse_bits=False)"
   ]
  },
  {
   "cell_type": "code",
   "execution_count": 168,
   "metadata": {},
   "outputs": [
    {
     "name": "stderr",
     "output_type": "stream",
     "text": [
      "/home/mauk/.local/lib/python3.8/site-packages/qiskit/visualization/bloch.py:69: MatplotlibDeprecationWarning: \n",
      "The M attribute was deprecated in Matplotlib 3.4 and will be removed two minor releases later. Use self.axes.M instead.\n",
      "  x_s, y_s, _ = proj3d.proj_transform(xs3d, ys3d, zs3d, renderer.M)\n"
     ]
    },
    {
     "data": {
      "image/png": "[encoded data removed]",
      "text/plain": [
       "<Figure size 288x288 with 1 Axes>"
      ]
     },
     "execution_count": 168,
     "metadata": {},
     "output_type": "execute_result"
    }
   ],
   "source": [
    "q = QuantumRegister(1)\n",
    "c = ClassicalRegister(1)\n",
    "qc = QuantumCircuit(q, c)\n",
    "\n",
    "inp_gate = init_gate([5, 3.5], label=\"input\", size=1)\n",
    "\n",
    "qc.append(inp_gate, q[0:1])\n",
    "\n",
    "state = Statevector.from_instruction(qc)\n",
    "plot_bloch_multivector(state, title=\"New Bloch Multivector\", reverse_bits=False)"
   ]
  },
  {
   "cell_type": "code",
   "execution_count": 169,
   "metadata": {},
   "outputs": [
    {
     "name": "stdout",
     "output_type": "stream",
     "text": [
      "2 2\n",
      "                   ┌───────┐     ┌───────┐     \n",
      "q9581_0: ──────────┤ psi_0 ├─────┤ psi_1 ├─────\n",
      "                   └───┬───┘     └───┬───┘┌───┐\n",
      "q9581_1: ──────────────┼─────────────┼────┤ X ├\n",
      "         ┌───┐┌───┐    │    ┌───┐    │    └─┬─┘\n",
      "q9581_2: ┤ H ├┤ X ├────■────┤ X ├────■──────■──\n",
      "         └───┘└───┘         └───┘              \n"
     ]
    }
   ],
   "source": [
    "# data = np.ones((20,4))\n",
    "# data = np.array([np.array([1,2,0,4]) for i in range(20)])\n",
    "\n",
    "\n",
    "qc_classifier = construct_classifier(data, labels)\n"
   ]
  },
  {
   "cell_type": "code",
   "execution_count": 170,
   "metadata": {},
   "outputs": [],
   "source": [
    "def classify(inp):\n",
    "    num_qubits = qc_classifier.num_qubits\n",
    "\n",
    "    data_size = math.ceil(math.log2(data.shape[1]))\n",
    "\n",
    "    num_cbits = data_size * 2 + 1\n",
    "\n",
    "\n",
    "    q = QuantumRegister(num_qubits)\n",
    "    c = ClassicalRegister(num_cbits)\n",
    "    qc = QuantumCircuit(q, c)\n",
    "\n",
    "    # inp_gate = init_gate([1,2,0,4])\n",
    "    inp_gate = init_gate(inp, label=\"input\", size=data_size)\n",
    "\n",
    "\n",
    "    qc.append(inp_gate, q[0:1])\n",
    "    qc = qc.compose(qc_classifier)\n",
    "    backend = Aer.get_backend('qasm_simulator')\n",
    "    job = execute(backend=backend, experiments=qc, shots=500)\n",
    "    result = job.result()\n",
    "\n",
    "    counts = result.get_counts()\n",
    "    counts_0 = {key[1:]:value for key, value in counts.items() if key[0] == '0'}\n",
    "    counts_1 = {key[1:]:value for key, value in counts.items() if key[0] == '1'}\n",
    "\n",
    "    return (interpret_des_swap(counts_0), interpret_des_swap(counts_1))"
   ]
  },
  {
   "cell_type": "code",
   "execution_count": 171,
   "metadata": {},
   "outputs": [
    {
     "name": "stdout",
     "output_type": "stream",
     "text": [
      "features:(5.9, 3.0), label:1.0, result:0:0.9838709677419355, 1:1.0, correct, accuracy:1.0\n",
      "features:(7.9, 3.8), label:1.0, result:0:1.0, 1:1.0, incorrect, accuracy:0.5\n",
      "features:(5.7, 4.4), label:0.0, result:0:0.9924812030075187, 1:0.9572649572649572, correct, accuracy:0.6666666666666666\n",
      "features:(6.3, 3.4), label:1.0, result:0:0.9920318725099602, 1:0.9919678714859437, incorrect, accuracy:0.5\n",
      "features:(4.6, 3.4), label:0.0, result:0:0.9920948616600791, 1:0.9271255060728745, correct, accuracy:0.6\n",
      "features:(6.3, 2.9), label:1.0, result:0:0.9717314487632509, 1:1.0, correct, accuracy:0.6666666666666666\n",
      "features:(6.3, 2.8), label:1.0, result:0:0.9741379310344827, 1:1.0, correct, accuracy:0.7142857142857143\n",
      "features:(5.4, 3.4), label:0.0, result:0:1.0, 1:0.9423868312757202, correct, accuracy:0.75\n",
      "features:(6.5, 3.0), label:1.0, result:0:1.0, 1:1.0, incorrect, accuracy:0.6666666666666666\n",
      "features:(5.0, 3.2), label:0.0, result:0:1.0, 1:0.9843137254901961, correct, accuracy:0.7\n",
      "features:(4.9, 3.1), label:0.0, result:0:1.0, 1:0.984375, correct, accuracy:0.7272727272727273\n",
      "features:(4.9, 3.6), label:0.0, result:0:1.0, 1:0.9692307692307693, correct, accuracy:0.75\n",
      "features:(6.2, 3.4), label:1.0, result:0:1.0, 1:0.9918699186991871, incorrect, accuracy:0.6923076923076923\n",
      "features:(7.1, 3.0), label:1.0, result:0:0.9541984732824427, 1:1.0, correct, accuracy:0.7142857142857143\n",
      "features:(5.1, 3.8), label:0.0, result:0:0.9850746268656716, 1:0.9396551724137931, correct, accuracy:0.7333333333333333\n",
      "features:(7.2, 3.2), label:1.0, result:0:0.982905982905983, 1:1.0, correct, accuracy:0.75\n",
      "features:(5.7, 2.5), label:1.0, result:0:0.9685039370078741, 1:1.0, correct, accuracy:0.7647058823529411\n",
      "features:(5.0, 3.0), label:0.0, result:0:1.0, 1:0.970260223048327, correct, accuracy:0.7777777777777778\n",
      "features:(5.5, 4.2), label:0.0, result:0:1.0, 1:0.9051383399209487, correct, accuracy:0.7894736842105263\n",
      "features:(4.4, 3.0), label:0.0, result:0:0.9921259842519685, 1:0.975609756097561, correct, accuracy:0.8\n",
      "features:(5.1, 3.5), label:0.0, result:0:1.0, 1:0.952, correct, accuracy:0.8095238095238095\n",
      "features:(5.7, 3.8), label:0.0, result:0:0.9923371647509578, 1:0.9581589958158996, correct, accuracy:0.8181818181818182\n",
      "features:(4.7, 3.2), label:0.0, result:0:1.0, 1:1.0, incorrect, accuracy:0.782608695652174\n",
      "features:(4.3, 3.0), label:0.0, result:0:0.9923076923076923, 1:0.95, correct, accuracy:0.7916666666666666\n",
      "features:(5.2, 3.5), label:0.0, result:0:1.0, 1:0.9839357429718876, correct, accuracy:0.8\n",
      "features:(6.4, 2.8), label:1.0, result:0:0.9598393574297188, 1:1.0, correct, accuracy:0.8076923076923077\n",
      "features:(5.1, 3.8), label:0.0, result:0:0.9921875, 1:0.9754098360655739, correct, accuracy:0.8148148148148148\n",
      "features:(6.3, 3.3), label:1.0, result:0:0.9915254237288136, 1:0.9924242424242424, correct, accuracy:0.8214285714285714\n",
      "features:(4.8, 3.0), label:0.0, result:0:1.0, 1:0.9847328244274809, correct, accuracy:0.8275862068965517\n",
      "features:(4.6, 3.2), label:0.0, result:0:0.9925373134328359, 1:0.9827586206896552, correct, accuracy:0.8333333333333334\n",
      "features:(6.2, 2.8), label:1.0, result:0:0.9543726235741445, 1:1.0, correct, accuracy:0.8387096774193549\n",
      "features:(5.2, 3.4), label:0.0, result:0:0.9920318725099602, 1:0.9678714859437751, correct, accuracy:0.84375\n",
      "features:(6.3, 2.7), label:1.0, result:0:0.969811320754717, 1:1.0, correct, accuracy:0.8484848484848485\n",
      "features:(4.8, 3.4), label:0.0, result:0:0.9921568627450981, 1:0.9755102040816326, correct, accuracy:0.8529411764705882\n",
      "features:(5.1, 3.5), label:0.0, result:0:1.0, 1:0.9367588932806323, correct, accuracy:0.8571428571428571\n",
      "features:(5.0, 3.3), label:0.0, result:0:1.0, 1:0.9746835443037976, correct, accuracy:0.8611111111111112\n",
      "0.8611111111111112\n"
     ]
    }
   ],
   "source": [
    "labels = [0,1]\n",
    "correct = 0\n",
    "count = 0\n",
    "for index, row in test.iterrows():\n",
    "    label = row[4]\n",
    "    results = classify(row[[0,1]].tolist())\n",
    "    cor = False\n",
    "    if results[0] > results[1] and label == labels[0]:\n",
    "        correct += 1\n",
    "        cor = True\n",
    "    elif results[0] < results[1] and label == labels[1]:\n",
    "        correct += 1\n",
    "        cor = True\n",
    "    count += 1\n",
    "    print(f\"features:({row[0]}, {row[1]}), label:{label}, result:{labels[0]}:{results[0]}, {labels[1]}:{results[1]}, {'correct' if cor else 'incorrect'}, accuracy:{correct / count}\")\n",
    "\n",
    "print(correct / len(test))\n"
   ]
  },
  {
   "cell_type": "code",
   "execution_count": 172,
   "metadata": {},
   "outputs": [
    {
     "name": "stdout",
     "output_type": "stream",
     "text": [
      "           ┌───────┐ ┌───────────────────┐┌─┐   \n",
      "q10776_0: ─┤ input ├─┤0                  ├┤M├───\n",
      "          ┌┴───────┴┐│  destructive_swap │└╥┘┌─┐\n",
      "q10776_1: ┤0        ├┤1                  ├─╫─┤M├\n",
      "          │         │└────────┬─┬────────┘ ║ └╥┘\n",
      "q10776_2: ┤1 oracle ├─────────┤M├──────────╫──╫─\n",
      "          │         │         └╥┘          ║  ║ \n",
      "q10776_3: ┤2        ├──────────╫───────────╫──╫─\n",
      "          └─────────┘          ║           ║  ║ \n",
      "  c361: 3/═════════════════════╩═══════════╩══╩═\n",
      "                               2           0  1 \n",
      "{'101': 1, '001': 8, '010': 513, '100': 303, '110': 483, '011': 137, '000': 359, '111': 196}\n",
      "0.7305801376597836\n",
      "0.6012207527975586\n"
     ]
    }
   ],
   "source": [
    "num_qubits = qc_classifier.num_qubits\n",
    "\n",
    "data_size = math.ceil(math.log2(data.shape[1]))\n",
    "\n",
    "num_cbits = data_size * 2 + 1\n",
    "\n",
    "\n",
    "q = QuantumRegister(num_qubits)\n",
    "c = ClassicalRegister(num_cbits)\n",
    "qc = QuantumCircuit(q, c)\n",
    "\n",
    "# inp_gate = init_gate([1,2,0,4])\n",
    "inp_gate = init_gate([1,2], label=\"input\", size=data_size)\n",
    "\n",
    "qc.append(inp_gate, q[0:1])\n",
    "qc = qc.compose(qc_classifier)\n",
    "print(qc)\n",
    "backend = Aer.get_backend('qasm_simulator')\n",
    "job = execute(backend=backend, experiments=qc, shots=2000)\n",
    "result = job.result()\n",
    "\n",
    "# print(result.get_counts())\n",
    "counts = result.get_counts()\n",
    "\n",
    "counts_0 = {key[1:]:value for key, value in counts.items() if key[0] == '0'}\n",
    "counts_1 = {key[1:]:value for key, value in counts.items() if key[0] == '1'}\n",
    "\n",
    "print(counts)\n",
    "print(interpret_des_swap(counts_0))\n",
    "print(interpret_des_swap(counts_1))"
   ]
  },
  {
   "cell_type": "code",
   "execution_count": 173,
   "metadata": {},
   "outputs": [
    {
     "data": {
      "text/html": [
       "<pre style=\"word-wrap: normal;white-space: pre;background: #fff0;line-height: 1.1;font-family: &quot;Courier New&quot;,Courier,monospace\">          ┌────────────┐┌──────────────┐┌────────────┐┌───────────────┐»\n",
       "q10809_0: ┤ Rx(2.5108) ├┤1             ├┤ Rx(1.6075) ├┤1              ├»\n",
       "          ├────────────┤│  Rxx(1.4192) │├────────────┤│  Rxx(0.83553) │»\n",
       "q10809_1: ┤ Rx(2.2563) ├┤0             ├┤ Rx(1.5656) ├┤0              ├»\n",
       "          └────────────┘└──────────────┘└────────────┘└───────────────┘»\n",
       "«          ┌─────────────┐┌───────────────┐┌────────────┐┌──────────────┐»\n",
       "«q10809_0: ┤ Rx(0.50078) ├┤1              ├┤ Rx(3.1152) ├┤1             ├»\n",
       "«          └┬────────────┤│  Rxx(0.90546) │├────────────┤│  Rxx(1.2694) │»\n",
       "«q10809_1: ─┤ Rx(1.5358) ├┤0              ├┤ Rx(2.4715) ├┤0             ├»\n",
       "«           └────────────┘└───────────────┘└────────────┘└──────────────┘»\n",
       "«          ┌────────────┐┌──────────────┐┌───────────┐ ┌──────────────┐»\n",
       "«q10809_0: ┤ Rx(2.4781) ├┤1             ├┤ Rx(1.867) ├─┤1             ├»\n",
       "«          ├────────────┤│  Rxx(2.3956) │├───────────┴┐│  Rxx(2.1136) │»\n",
       "«q10809_1: ┤ Rx(1.5993) ├┤0             ├┤ Rx(2.3876) ├┤0             ├»\n",
       "«          └────────────┘└──────────────┘└────────────┘└──────────────┘»\n",
       "«           ┌────────────┐┌──────────────┐ ┌────────────┐┌──────────────┐\n",
       "«q10809_0: ─┤ Rx(2.3411) ├┤1             ├─┤ Rx(2.3058) ├┤1             ├\n",
       "«          ┌┴────────────┤│  Rxx(2.6548) │┌┴────────────┤│  Rxx(1.9229) │\n",
       "«q10809_1: ┤ Rx(0.72783) ├┤0             ├┤ Rx(0.75492) ├┤0             ├\n",
       "«          └─────────────┘└──────────────┘└─────────────┘└──────────────┘</pre>"
      ],
      "text/plain": [
       "          ┌────────────┐┌──────────────┐┌────────────┐┌───────────────┐»\n",
       "q10809_0: ┤ Rx(2.5108) ├┤1             ├┤ Rx(1.6075) ├┤1              ├»\n",
       "          ├────────────┤│  Rxx(1.4192) │├────────────┤│  Rxx(0.83553) │»\n",
       "q10809_1: ┤ Rx(2.2563) ├┤0             ├┤ Rx(1.5656) ├┤0              ├»\n",
       "          └────────────┘└──────────────┘└────────────┘└───────────────┘»\n",
       "«          ┌─────────────┐┌───────────────┐┌────────────┐┌──────────────┐»\n",
       "«q10809_0: ┤ Rx(0.50078) ├┤1              ├┤ Rx(3.1152) ├┤1             ├»\n",
       "«          └┬────────────┤│  Rxx(0.90546) │├────────────┤│  Rxx(1.2694) │»\n",
       "«q10809_1: ─┤ Rx(1.5358) ├┤0              ├┤ Rx(2.4715) ├┤0             ├»\n",
       "«           └────────────┘└───────────────┘└────────────┘└──────────────┘»\n",
       "«          ┌────────────┐┌──────────────┐┌───────────┐ ┌──────────────┐»\n",
       "«q10809_0: ┤ Rx(2.4781) ├┤1             ├┤ Rx(1.867) ├─┤1             ├»\n",
       "«          ├────────────┤│  Rxx(2.3956) │├───────────┴┐│  Rxx(2.1136) │»\n",
       "«q10809_1: ┤ Rx(1.5993) ├┤0             ├┤ Rx(2.3876) ├┤0             ├»\n",
       "«          └────────────┘└──────────────┘└────────────┘└──────────────┘»\n",
       "«           ┌────────────┐┌──────────────┐ ┌────────────┐┌──────────────┐\n",
       "«q10809_0: ─┤ Rx(2.3411) ├┤1             ├─┤ Rx(2.3058) ├┤1             ├\n",
       "«          ┌┴────────────┤│  Rxx(2.6548) │┌┴────────────┤│  Rxx(1.9229) │\n",
       "«q10809_1: ┤ Rx(0.72783) ├┤0             ├┤ Rx(0.75492) ├┤0             ├\n",
       "«          └─────────────┘└──────────────┘└─────────────┘└──────────────┘"
      ]
     },
     "execution_count": 173,
     "metadata": {},
     "output_type": "execute_result"
    }
   ],
   "source": [
    "# n_features gets boiled down to amount of qubits necessary for it to work TODO: Change n_labels to do the same\n",
    "def build_variational_circuit(depth, n_features, n_labels, params=None, measurement=False):\n",
    "    # TODO: Add y and z rotations\n",
    "    n_qubits = math.ceil(math.log2(n_features)) + n_labels\n",
    "    \n",
    "    def seriessum(n):\n",
    "        n_sum = 0\n",
    "        for i in range(n):\n",
    "            n_sum += i\n",
    "        return n_sum\n",
    "    \n",
    "    n_qubits_per_layer = n_qubits + seriessum(n_qubits)\n",
    "    n_rot_qubits_per_layer = n_qubits\n",
    "    n_entangle_qubits_per_layer = seriessum(n_qubits)\n",
    "    \n",
    "#     print(params)\n",
    "    \n",
    "    if not params:\n",
    "        params = np.random.rand(depth * (n_rot_qubits_per_layer + n_entangle_qubits_per_layer)) * math.pi\n",
    "    \n",
    "#     print(params)\n",
    "    \n",
    "#     print(len(params))\n",
    "    \n",
    "    q = QuantumRegister(n_qubits)\n",
    "    if measurement:\n",
    "        c = ClassicalRegister(n_qubits)\n",
    "        qc = QuantumCircuit(q, c)\n",
    "    else:\n",
    "        qc = QuantumCircuit(q)\n",
    "        \n",
    "    \n",
    "    # Dynamically add rx rotation and rxx entanglement gates\n",
    "    for i in range(depth):\n",
    "        for j in range(n_qubits):\n",
    "#             print(i * depth, j)\n",
    "#             print(i * n_qubits_per_layer, j, (i * n_qubits_per_layer) + j)\n",
    "            qc.rx(params[i * n_qubits_per_layer + j], j)\n",
    "        next_param = 0\n",
    "        for j in range(n_qubits):\n",
    "#             print(i * n_qubits_per_layer, j, (i * n_qubits_per_layer) + j)\n",
    "            for k in range(n_qubits):\n",
    "                if j == k or j < k:\n",
    "                    continue\n",
    "#                 print(i * n_qubits_per_layer + n_rot_qubits_per_layer + next_param)\n",
    "#                 print(i * n_rot_qubits_per_layer + j + next_param + n_rot_qubits_per_layer)\n",
    "                qc.rxx(params[i * n_qubits_per_layer + n_rot_qubits_per_layer + next_param], j, k)\n",
    "                next_param += 1\n",
    "        \n",
    "        if measurement:\n",
    "            qc.barrier()\n",
    "    \n",
    "    if measurement:\n",
    "        for i in range(n_qubits):\n",
    "            qc.measure(i, i)\n",
    "            \n",
    "    return qc\n",
    "      \n",
    "build_variational_circuit(8, 2, 1).draw()"
   ]
  },
  {
   "cell_type": "code",
   "execution_count": 174,
   "metadata": {},
   "outputs": [],
   "source": [
    "def construct_generator_classifier(depth, n_features, n_labels, inp, params):\n",
    "    input_size = math.ceil(math.log2(data.shape[1]))\n",
    "#     oracle, data_bits, counting_bits = construct_oracle(data, labels)\n",
    "    variational_oracle = build_variational_circuit(depth, n_features, n_labels)\n",
    "    variational_oracle_gate = variational_oracle.to_gate(label=\"variational_oracle\")\n",
    "    q = QuantumRegister(input_size + variational_oracle.num_qubits + 1)\n",
    "    c = ClassicalRegister(2)\n",
    "    qc = QuantumCircuit(q, c)\n",
    "#     print(input_size)\n",
    "\n",
    "    inp_gate = init_gate(inp, label=\"input\", size=input_size)\n",
    "    \n",
    "    swap_test_ancilla = q[0:1]\n",
    "    inp_qubits = q[1:input_size + 1]\n",
    "    oracle_data_qubits = q[input_size + 1:-1]\n",
    "    label_qubit = q[-1:]\n",
    "    \n",
    "    qc.append(inp_gate, inp_qubits)\n",
    "    qc.append(variational_oracle_gate, oracle_data_qubits + label_qubit)\n",
    "    qc.append(swap(input_size), swap_test_ancilla + inp_qubits + oracle_data_qubits)\n",
    "    qc.measure(swap_test_ancilla, 0)\n",
    "    qc.measure(label_qubit, 1)\n",
    "\n",
    "    return qc\n",
    "\n",
    "# params = [1, 1, 1, 1, 1, 1, 1, 1, 1]\n",
    "# construct_generator_classifier([1, 2], params).draw()"
   ]
  },
  {
   "cell_type": "code",
   "execution_count": 175,
   "metadata": {},
   "outputs": [],
   "source": [
    "def swap(n):\n",
    "    q = QuantumRegister(n * 2 + 1)\n",
    "    circuit = QuantumCircuit(q)\n",
    "    circuit.h(q[0])\n",
    "    \n",
    "    for i in range(0, n):\n",
    "        circuit.cswap(0, 1 + i, 1 + n+i)\n",
    "    circuit.h(q[0])\n",
    "    return circuit.to_gate(label=\"swap\")"
   ]
  },
  {
   "cell_type": "code",
   "execution_count": 176,
   "metadata": {},
   "outputs": [],
   "source": [
    "def build_gan_stack(depth, n_features, n_labels, params=None):\n",
    "    oracle, n_data_qubits, n_counting_qubits = construct_oracle(data, labels)\n",
    "    generator = build_variational_circuit(depth, n_features, n_labels, params=params)\n",
    "    \n",
    "    oracle_gate = oracle.to_gate(label=\"oracle\")\n",
    "    generator_gate = generator.to_gate(label=\"generator\")\n",
    "    \n",
    "    n_qubits = n_counting_qubits + n_data_qubits + generator.num_qubits + 2\n",
    "    \n",
    "    q = QuantumRegister(n_qubits)\n",
    "    c = ClassicalRegister(1)\n",
    "    qc = QuantumCircuit(q, c)\n",
    "    \n",
    "    generator_qubits = q[1:generator.num_qubits + 1]\n",
    "    oracle_qubits = q[generator.num_qubits + 1:]\n",
    "    \n",
    "    qc.append(generator_gate, generator_qubits)\n",
    "    qc.append(oracle_gate, oracle_qubits)\n",
    "    \n",
    "    swap_test_gate = swap(2)\n",
    "    swap_test_qubits = q[:5]\n",
    "    \n",
    "    qc.append(swap_test_gate, swap_test_qubits)\n",
    "    \n",
    "    qc.measure(0, 0)\n",
    "    \n",
    "    return qc\n",
    "\n",
    "# build_gan_stack(8, 2, 1).draw()"
   ]
  },
  {
   "cell_type": "code",
   "execution_count": 177,
   "metadata": {},
   "outputs": [
    {
     "name": "stdout",
     "output_type": "stream",
     "text": [
      "2 2\n"
     ]
    }
   ],
   "source": [
    "gan_stack_qc = build_gan_stack(8, 2, 1)"
   ]
  },
  {
   "cell_type": "code",
   "execution_count": 178,
   "metadata": {},
   "outputs": [],
   "source": [
    "def get_generator_similarity(gan_stack_qc):\n",
    "    start = datetime.now()\n",
    "    backend = Aer.get_backend('qasm_simulator')\n",
    "    job = execute(backend=backend, experiments=gan_stack_qc, shots=200)\n",
    "    result = job.result()\n",
    "\n",
    "    counts = result.get_counts()\n",
    "    return counts\n",
    "#     print(counts)\n",
    "#     print(datetime.now() - start)"
   ]
  },
  {
   "cell_type": "code",
   "execution_count": 179,
   "metadata": {},
   "outputs": [],
   "source": [
    "def classify_variationally(depth, n_features, n_labels, params, data_point):\n",
    "    variational_classifier = construct_generator_classifier(depth, n_features, n_labels, data_point, params)\n",
    "\n",
    "    backend = Aer.get_backend('qasm_simulator')\n",
    "    job = execute(backend=backend, experiments=variational_classifier, shots=2000)\n",
    "    result = job.result()\n",
    "\n",
    "    counts = result.get_counts()\n",
    "    counts_0 = {key[1:]:value for key, value in counts.items() if key[0] == '0'}\n",
    "    counts_1 = {key[1:]:value for key, value in counts.items() if key[0] == '1'}\n",
    "\n",
    "    return (interpret_des_swap(counts_0), interpret_des_swap(counts_1))\n",
    "\n",
    "# data_point = [5, 3.5]\n",
    "# params = [1, 1, 1, 1, 1, 1, 1, 1, 1]\n",
    "# classify_variationally(params, data_point)"
   ]
  },
  {
   "cell_type": "code",
   "execution_count": 180,
   "metadata": {},
   "outputs": [
    {
     "name": "stdout",
     "output_type": "stream",
     "text": [
      "features:(5.9, 3.0), label:1.0, result:0:1.0, 1:1.0, incorrect, accuracy:0.0\n",
      "features:(7.9, 3.8), label:1.0, result:0:1.0, 1:1.0, incorrect, accuracy:0.0\n",
      "features:(5.7, 4.4), label:0.0, result:0:1.0, 1:1.0, incorrect, accuracy:0.0\n",
      "features:(6.3, 3.4), label:1.0, result:0:1.0, 1:1.0, incorrect, accuracy:0.0\n",
      "features:(4.6, 3.4), label:0.0, result:0:1.0, 1:1.0, incorrect, accuracy:0.0\n",
      "features:(6.3, 2.9), label:1.0, result:0:1.0, 1:1.0, incorrect, accuracy:0.0\n",
      "features:(6.3, 2.8), label:1.0, result:0:1.0, 1:1.0, incorrect, accuracy:0.0\n",
      "features:(5.4, 3.4), label:0.0, result:0:1.0, 1:1.0, incorrect, accuracy:0.0\n",
      "features:(6.5, 3.0), label:1.0, result:0:1.0, 1:1.0, incorrect, accuracy:0.0\n",
      "features:(5.0, 3.2), label:0.0, result:0:1.0, 1:1.0, incorrect, accuracy:0.0\n",
      "features:(4.9, 3.1), label:0.0, result:0:1.0, 1:1.0, incorrect, accuracy:0.0\n",
      "features:(4.9, 3.6), label:0.0, result:0:1.0, 1:1.0, incorrect, accuracy:0.0\n",
      "features:(6.2, 3.4), label:1.0, result:0:1.0, 1:1.0, incorrect, accuracy:0.0\n",
      "features:(7.1, 3.0), label:1.0, result:0:1.0, 1:1.0, incorrect, accuracy:0.0\n",
      "features:(5.1, 3.8), label:0.0, result:0:1.0, 1:1.0, incorrect, accuracy:0.0\n",
      "features:(7.2, 3.2), label:1.0, result:0:1.0, 1:1.0, incorrect, accuracy:0.0\n",
      "features:(5.7, 2.5), label:1.0, result:0:1.0, 1:1.0, incorrect, accuracy:0.0\n",
      "features:(5.0, 3.0), label:0.0, result:0:1.0, 1:1.0, incorrect, accuracy:0.0\n",
      "features:(5.5, 4.2), label:0.0, result:0:1.0, 1:1.0, incorrect, accuracy:0.0\n",
      "features:(4.4, 3.0), label:0.0, result:0:1.0, 1:1.0, incorrect, accuracy:0.0\n",
      "features:(5.1, 3.5), label:0.0, result:0:1.0, 1:1.0, incorrect, accuracy:0.0\n",
      "features:(5.7, 3.8), label:0.0, result:0:1.0, 1:1.0, incorrect, accuracy:0.0\n",
      "features:(4.7, 3.2), label:0.0, result:0:1.0, 1:1.0, incorrect, accuracy:0.0\n",
      "features:(4.3, 3.0), label:0.0, result:0:1.0, 1:1.0, incorrect, accuracy:0.0\n",
      "features:(5.2, 3.5), label:0.0, result:0:1.0, 1:1.0, incorrect, accuracy:0.0\n",
      "features:(6.4, 2.8), label:1.0, result:0:1.0, 1:1.0, incorrect, accuracy:0.0\n",
      "features:(5.1, 3.8), label:0.0, result:0:1.0, 1:1.0, incorrect, accuracy:0.0\n",
      "features:(6.3, 3.3), label:1.0, result:0:1.0, 1:1.0, incorrect, accuracy:0.0\n",
      "features:(4.8, 3.0), label:0.0, result:0:1.0, 1:1.0, incorrect, accuracy:0.0\n",
      "features:(4.6, 3.2), label:0.0, result:0:1.0, 1:1.0, incorrect, accuracy:0.0\n",
      "features:(6.2, 2.8), label:1.0, result:0:1.0, 1:1.0, incorrect, accuracy:0.0\n",
      "features:(5.2, 3.4), label:0.0, result:0:1.0, 1:1.0, incorrect, accuracy:0.0\n",
      "features:(6.3, 2.7), label:1.0, result:0:1.0, 1:1.0, incorrect, accuracy:0.0\n",
      "features:(4.8, 3.4), label:0.0, result:0:1.0, 1:1.0, incorrect, accuracy:0.0\n",
      "features:(5.1, 3.5), label:0.0, result:0:1.0, 1:1.0, incorrect, accuracy:0.0\n",
      "features:(5.0, 3.3), label:0.0, result:0:1.0, 1:1.0, incorrect, accuracy:0.0\n",
      "0.0\n"
     ]
    }
   ],
   "source": [
    "label_names = [0,1]\n",
    "params = None# [1, 1, 1, 1, 1, 1, 1, 1, 1, 1, 1, 1, 1, 1, 1, 1, 1, 1, 1, 1, 1, 1, 1, 1]\n",
    "correct = 0\n",
    "count = 0\n",
    "for index, row in test.iterrows():\n",
    "    label = row[4]\n",
    "    results = classify_variationally(8, 2, 1, params, row[[0,1]].tolist())\n",
    "    cor = False\n",
    "    if results[0] > results[1] and label == label_names[0]:\n",
    "        correct += 1\n",
    "        cor = True\n",
    "    elif results[0] < results[1] and label == label_names[1]:\n",
    "        correct += 1\n",
    "        cor = True\n",
    "    count += 1\n",
    "    print(f\"features:({row[0]}, {row[1]}), label:{label}, result:{label_names[0]}:{results[0]}, {label_names[1]}:{results[1]}, {'correct' if cor else 'incorrect'}, accuracy:{correct / count}\")\n",
    "\n",
    "print(correct / len(test))"
   ]
  },
  {
   "cell_type": "code",
   "execution_count": 209,
   "metadata": {},
   "outputs": [
    {
     "name": "stdout",
     "output_type": "stream",
     "text": [
      "Initial parameters: [0.46471351 1.40548769 2.33211027 0.28181511 0.60911619 1.49224952\n",
      " 1.29271941 2.2279107  0.60053761]\n",
      "Intermediate: -0.22399999999999998\n",
      "Intermediate: -0.16399999999999992\n",
      "Intermediate: -0.23199999999999998\n",
      "Intermediate: -0.18399999999999994\n",
      "Intermediate: -0.272\n",
      "Intermediate: -0.19999999999999996\n",
      "Intermediate: -0.29600000000000004\n",
      "Intermediate: -0.32800000000000007\n",
      "Intermediate: -0.15599999999999992\n",
      "Intermediate: -0.3680000000000001\n",
      "Intermediate: -0.3759999999999999\n",
      "Intermediate: -0.08800000000000008\n",
      "Intermediate: -0.08800000000000008\n",
      "Intermediate: -0.30400000000000005\n",
      "Intermediate: -0.1399999999999999\n",
      "Intermediate: -0.22399999999999998\n",
      "Intermediate: -0.17199999999999993\n",
      "Intermediate: -0.21999999999999997\n",
      "Intermediate: -0.29200000000000004\n",
      "Intermediate: -0.16399999999999992\n",
      "Intermediate: -0.3400000000000001\n",
      "Intermediate: -0.19599999999999995\n",
      "Intermediate: -0.21999999999999997\n",
      "Intermediate: -0.29200000000000004\n",
      "Intermediate: -0.22399999999999998\n",
      "Intermediate: -0.17999999999999994\n",
      "Intermediate: -0.252\n",
      "Intermediate: -0.08800000000000008\n",
      "Intermediate: -0.3520000000000001\n",
      "Intermediate: -0.16399999999999992\n",
      "Intermediate: -0.1120000000000001\n",
      "Intermediate: -0.21599999999999997\n",
      "Intermediate: -0.272\n",
      "Intermediate: -0.3600000000000001\n",
      "Intermediate: -0.1080000000000001\n",
      "Intermediate: -0.22399999999999998\n",
      "Intermediate: -0.22799999999999998\n",
      "Intermediate: -0.3680000000000001\n",
      "Intermediate: -0.1479999999999999\n",
      "Intermediate: -0.1120000000000001\n",
      "Intermediate: -0.1120000000000001\n",
      "Intermediate: -0.24\n",
      "Intermediate: -0.30000000000000004\n",
      "Intermediate: -0.16799999999999993\n",
      "Intermediate: -0.09600000000000009\n",
      "Intermediate: -0.4079999999999999\n",
      "Intermediate: -0.24\n",
      "Intermediate: -0.3799999999999999\n",
      "Intermediate: -0.276\n",
      "Intermediate: -0.1319999999999999\n",
      "Intermediate: -0.3440000000000001\n",
      "Intermediate: -0.10000000000000009\n",
      "Intermediate: -0.15599999999999992\n",
      "Intermediate: -0.22799999999999998\n",
      "Intermediate: -0.30000000000000004\n",
      "Intermediate: -0.43999999999999995\n",
      "Intermediate: -0.248\n",
      "Intermediate: -0.30000000000000004\n",
      "Intermediate: -0.17199999999999993\n",
      "Intermediate: -0.21999999999999997\n",
      "Intermediate: -0.06400000000000006\n",
      "Intermediate: -0.20799999999999996\n",
      "Intermediate: -0.45599999999999996\n",
      "Intermediate: -0.30800000000000005\n",
      "Intermediate: -0.3919999999999999\n",
      "Intermediate: -0.276\n",
      "Intermediate: -0.4039999999999999\n",
      "Intermediate: -0.29200000000000004\n",
      "Intermediate: -0.1080000000000001\n",
      "Intermediate: -0.19599999999999995\n",
      "Intermediate: -0.21199999999999997\n",
      "Intermediate: -0.18799999999999994\n",
      "Intermediate: -0.3400000000000001\n",
      "Intermediate: -0.272\n",
      "Intermediate: -0.3400000000000001\n",
      "Intermediate: -0.16399999999999992\n",
      "Intermediate: -0.19999999999999996\n",
      "Intermediate: -0.19599999999999995\n",
      "Intermediate: -0.28800000000000003\n",
      "Intermediate: -0.252\n",
      "Intermediate: -0.1519999999999999\n",
      "Intermediate: -0.05600000000000005\n",
      "Intermediate: -0.3520000000000001\n",
      "Intermediate: -0.21599999999999997\n",
      "Intermediate: -0.18799999999999994\n",
      "Intermediate: -0.32400000000000007\n",
      "Intermediate: -0.17999999999999994\n",
      "Intermediate: -0.12400000000000011\n",
      "Intermediate: -0.32000000000000006\n",
      "Intermediate: -0.22799999999999998\n",
      "Intermediate: -0.3400000000000001\n",
      "Supposed optimal parameters: (array([0.18121768, 2.44876719, 2.10425286, 1.4651267 , 0.26999526,\n",
      "       2.60462215, 2.44093319, 1.42258168, 1.78553345]), -0.3400000000000001, 91)\n"
     ]
    },
    {
     "data": {
      "image/png": "[encoded data removed]",
      "text/plain": [
       "<Figure size 432x288 with 1 Axes>"
      ]
     },
     "metadata": {
      "needs_background": "light"
     },
     "output_type": "display_data"
    }
   ],
   "source": [
    "# Define variational circuit_variables\n",
    "circuit_depth = 3\n",
    "n_features = 2\n",
    "n_labels = 1\n",
    "\n",
    "intermediate_results = []\n",
    "\n",
    "def objective_function(params):\n",
    "    # construct circuit with given params\n",
    "    qc = build_gan_stack(circuit_depth, n_features, n_labels, params)\n",
    "    \n",
    "    backend = Aer.get_backend('qasm_simulator')\n",
    "    job = execute(backend=backend, experiments=qc, shots=500)\n",
    "    counts = job.result().get_counts()\n",
    "    \n",
    "    result = 2 * counts['0'] / sum(counts.values()) - 1\n",
    "    \n",
    "    print(\"Intermediate:\", -result)\n",
    "    intermediate_results.append(-result)\n",
    "    \n",
    "    return -result\n",
    "    \n",
    "    \n",
    "def generate_params(circuit_depth, n_features, n_labels):\n",
    "    \n",
    "    n_qubits = math.ceil(math.log2(n_features)) + n_labels\n",
    "\n",
    "    def seriessum(n):\n",
    "        n_sum = 0\n",
    "        for i in range(n):\n",
    "            n_sum += i\n",
    "        return n_sum\n",
    "\n",
    "    n_qubits_per_layer = n_qubits + seriessum(n_qubits)\n",
    "    n_rot_qubits_per_layer = n_qubits\n",
    "    n_entangle_qubits_per_layer = seriessum(n_qubits)\n",
    "\n",
    "    generated_params = np.random.rand(circuit_depth * (n_rot_qubits_per_layer + n_entangle_qubits_per_layer)) * math.pi\n",
    "    \n",
    "    return generated_params\n",
    "    \n",
    "init_params = generate_params(circuit_depth, n_features, n_labels)\n",
    "\n",
    "print(\"Initial parameters:\", init_params)\n",
    "# objective_function(params)\n",
    "    \n",
    "optimizer = COBYLA(maxiter=100)\n",
    "\n",
    "ret = optimizer.optimize(num_vars=len(init_params), objective_function=objective_function, initial_point=init_params)\n",
    "\n",
    "print(\"Supposed optimal parameters:\", ret)\n",
    "\n",
    "plt.plot(intermediate_results)\n",
    "plt.show()\n"
   ]
  },
  {
   "cell_type": "code",
   "execution_count": null,
   "metadata": {},
   "outputs": [],
   "source": []
  }
 ],
 "metadata": {
  "kernelspec": {
   "display_name": "Python 3",
   "language": "python",
   "name": "python3"
  },
  "language_info": {
   "codemirror_mode": {
    "name": "ipython",
    "version": 3
   },
   "file_extension": ".py",
   "mimetype": "text/x-python",
   "name": "python",
   "nbconvert_exporter": "python",
   "pygments_lexer": "ipython3",
   "version": "3.8.10"
  }
 },
 "nbformat": 4,
 "nbformat_minor": 2
}
