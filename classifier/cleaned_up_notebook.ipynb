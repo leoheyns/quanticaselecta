{
 "cells": [
  {
   "cell_type": "code",
   "execution_count": 1,
   "metadata": {},
   "outputs": [],
   "source": [
    "from qiskit import QuantumCircuit, QuantumRegister, ClassicalRegister, Aer, execute, circuit, extensions\n",
    "import matplotlib.pyplot as plt\n",
    "import math\n",
    "import numpy as np\n",
    "from functools import reduce\n",
    "import pandas as pd\n",
    "from sklearn.model_selection import train_test_split\n",
    "from qiskit.visualization import plot_bloch_multivector\n",
    "from qiskit.quantum_info import Statevector\n",
    "from datetime import datetime\n",
    "from qiskit.aqua.components.optimizers import COBYLA, ADAM, AQGD, NFT"
   ]
  },
  {
   "cell_type": "markdown",
   "metadata": {},
   "source": [
    "# Constants"
   ]
  },
  {
   "cell_type": "code",
   "execution_count": 2,
   "metadata": {},
   "outputs": [],
   "source": [
    "#CONSTANTSSSSSS\n",
    "\n",
    "#generator constants\n",
    "circuit_depth = 3\n",
    "circuit_width = 3"
   ]
  },
  {
   "cell_type": "markdown",
   "metadata": {},
   "source": [
    "# Data prep"
   ]
  },
  {
   "cell_type": "code",
   "execution_count": 3,
   "metadata": {},
   "outputs": [],
   "source": [
    "df = pd.read_csv(\"bezdekIris.data\", header=None)\n",
    "#give classes numbers\n",
    "df[4] = [0 if p == \"Iris-setosa\" else 1 if p == \"Iris-virginica\" else 2 for p in df[4]]\n",
    "#reduce to just 2 classes\n",
    "df = df[df[4] != 2]"
   ]
  },
  {
   "cell_type": "code",
   "execution_count": 4,
   "metadata": {},
   "outputs": [],
   "source": [
    "train, test = train_test_split(df, test_size=0.36)\n",
    "data = train[[0,1]].to_numpy()\n",
    "labels = train[4].to_numpy()\n",
    "label0 = -1\n",
    "n_data_points = 2\n",
    "\n",
    "n_label0s = n_data_points / 2\n",
    "n_label1s = n_data_points / 2\n",
    "\n",
    "label0s = []\n",
    "label1s = []\n",
    "\n",
    "for i in range(len(labels)):\n",
    "    if labels[i] == 0 and n_label0s > 0:\n",
    "        n_label0s -= 1\n",
    "        label0s.append(i)\n",
    "        \n",
    "    if labels[i] == 1 and n_label1s > 0:\n",
    "        n_label1s -= 1\n",
    "        label1s.append(i)\n",
    "        \n",
    "    if n_label0s < 1 and n_label1s < 1:\n",
    "        break\n",
    "\n",
    "idx = label0s + label1s\n",
    "        \n",
    "data = data[idx]\n",
    "labels = labels[idx]"
   ]
  },
  {
   "cell_type": "markdown",
   "metadata": {},
   "source": [
    "# Helper functions"
   ]
  },
  {
   "cell_type": "code",
   "execution_count": 5,
   "metadata": {},
   "outputs": [],
   "source": [
    "def normalize(l):\n",
    "    normalization_factor = math.sqrt(sum([i ** 2 for i in l]))\n",
    "    return [i / normalization_factor for i in l]\n",
    "\n",
    "def init_gate(init_states, label=None, size=None):\n",
    "    if not size:\n",
    "        size = math.ceil(math.log2(len(init_states)))\n",
    "    state_vector = normalize(init_states) + [0] * ((2 ** size) - len(init_states))\n",
    "    #I know this is way ugly, but it's the easiest way to actualy turn initialize() into a gate\n",
    "    return extensions.Initialize(state_vector).gates_to_uncompute().inverse().to_gate(label=label if label else None)"
   ]
  },
  {
   "cell_type": "code",
   "execution_count": 6,
   "metadata": {},
   "outputs": [],
   "source": [
    "def x_indices(i, bits):\n",
    "    indices = []\n",
    "    for j in range(bits):\n",
    "        bit = (i >> j) & 1\n",
    "        if not bit:\n",
    "            indices.append(j)\n",
    "    return indices"
   ]
  },
  {
   "cell_type": "code",
   "execution_count": 7,
   "metadata": {},
   "outputs": [],
   "source": [
    "def destructive_swap(n):\n",
    "    q = QuantumRegister(n * 2)\n",
    "    circuit = QuantumCircuit(q)\n",
    "    \n",
    "    for i in range(n):\n",
    "        circuit.cx(i, n+i)\n",
    "        circuit.h(i)\n",
    "    return circuit.to_gate(label=\"destructive_swap\")\n",
    "\n",
    "def interpret_des_swap(counts):\n",
    "    successes = 0\n",
    "    for k in counts:\n",
    "        #success if and of measurement has even parity, that's what the paper said\n",
    "        success = reduce(lambda b, p: (p == ('1', '1')) ^ b , zip(list(k[:len(k)//2]), list(k[len(k)//2:])), True)\n",
    "        if success:\n",
    "            successes += counts[k]\n",
    "    if sum(counts.values()) == 0:\n",
    "        return 0\n",
    "    return  2 * (successes / sum(counts.values())) - 1"
   ]
  },
  {
   "cell_type": "code",
   "execution_count": 8,
   "metadata": {},
   "outputs": [],
   "source": [
    "def swap(n):\n",
    "    q = QuantumRegister(n * 2 + 1)\n",
    "    circuit = QuantumCircuit(q)\n",
    "    circuit.h(q[0])\n",
    "    \n",
    "    for i in range(0, n):\n",
    "        circuit.cswap(0, 1 + i, 1 + n+i)\n",
    "    circuit.h(q[0])\n",
    "#     print(circuit)\n",
    "    return circuit.to_gate(label=\"swap\")\n",
    "# swap(2)"
   ]
  },
  {
   "cell_type": "code",
   "execution_count": 9,
   "metadata": {},
   "outputs": [],
   "source": [
    "def seriessum(n):\n",
    "    n_sum = 0\n",
    "    for i in range(n):\n",
    "        n_sum += i\n",
    "    return n_sum"
   ]
  },
  {
   "cell_type": "markdown",
   "metadata": {},
   "source": [
    "# Oracle meuk"
   ]
  },
  {
   "cell_type": "code",
   "execution_count": 10,
   "metadata": {},
   "outputs": [],
   "source": [
    "def construct_oracle(data, labels):\n",
    "    # gate = init_gate([0,2,10], \"psi_0\")\n",
    "    data_bits = math.ceil(math.log2(data.shape[1]))\n",
    "    counting_bits = math.ceil(math.log2(data.shape[0]))\n",
    "    q = QuantumRegister(data_bits + counting_bits + 1)\n",
    "    qc = QuantumCircuit(q)\n",
    "\n",
    "#     data = [[x,x*2,x**2] for x in range(1, 16)]\n",
    "    qc.h(q[data_bits + 1:])\n",
    "    for i in range(len(data)):\n",
    "        x_i = [data_bits + 1 + x_i for x_i in x_indices(i,counting_bits)]\n",
    "        if len(x_i) > 0:\n",
    "            qc.x(x_i)\n",
    "        gate = init_gate(data[i], f\"psi_{i}\", data_bits).control(counting_bits)\n",
    "        qc.append(gate, q[data_bits + 1:] + q[:data_bits])\n",
    "        if labels[i] == 1:\n",
    "            x_gate = circuit.library.XGate().control(counting_bits)\n",
    "            qc.append(x_gate, q[data_bits + 1:] + [q[data_bits]])\n",
    "\n",
    "        if len(x_i) > 0:\n",
    "            qc.x(x_i)\n",
    "    return qc, data_bits, counting_bits"
   ]
  },
  {
   "cell_type": "code",
   "execution_count": 11,
   "metadata": {},
   "outputs": [
    {
     "data": {
      "image/png": "[encoded data removed]",
      "text/plain": [
       "<Figure size 432x288 with 1 Axes>"
      ]
     },
     "metadata": {
      "needs_background": "light"
     },
     "output_type": "display_data"
    }
   ],
   "source": [
    "plt.scatter(x=data[:, 0], y=data[:, 1], c=labels)\n",
    "plt.xlim([0,7])\n",
    "plt.ylim([0,7])\n",
    "\n",
    "plt.show()"
   ]
  },
  {
   "cell_type": "markdown",
   "metadata": {},
   "source": [
    "# Classifier"
   ]
  },
  {
   "cell_type": "code",
   "execution_count": 12,
   "metadata": {},
   "outputs": [],
   "source": [
    "def construct_destructive_classifier(oracle, data_bits, oracle_label=\"oracle\"):\n",
    "    oracle_gate = oracle.to_gate(label=oracle_label)\n",
    "\n",
    "    q = QuantumRegister(data_bits + oracle.num_qubits)\n",
    "    c = ClassicalRegister(data_bits * 2 + 1)\n",
    "    qc = QuantumCircuit(q, c)\n",
    "    \n",
    "    qc.append(oracle, q[data_bits:])\n",
    "    qc.append(destructive_swap(data_bits), q[:data_bits] + q[data_bits:data_bits+data_bits])\n",
    "    for i in range(data_bits * 2 + 1):\n",
    "        qc.measure(i,i)\n",
    "    return qc"
   ]
  },
  {
   "cell_type": "code",
   "execution_count": 13,
   "metadata": {},
   "outputs": [],
   "source": [
    "def classify_destructive(inp, classifier):\n",
    "    num_qubits = classifier.num_qubits\n",
    "\n",
    "    data_size = math.ceil(math.log2(len(inp)))\n",
    "\n",
    "    num_cbits = data_size * 2 + 1\n",
    "\n",
    "\n",
    "    q = QuantumRegister(num_qubits)\n",
    "    c = ClassicalRegister(num_cbits)\n",
    "    qc = QuantumCircuit(q, c)\n",
    "\n",
    "    # inp_gate = init_gate([1,2,0,4])\n",
    "    inp_gate = init_gate(inp, label=\"input\", size=data_size)\n",
    "\n",
    "\n",
    "    qc.append(inp_gate, q[:data_size])\n",
    "    qc = qc.compose(classifier)\n",
    "    backend = Aer.get_backend('qasm_simulator')\n",
    "    job = execute(backend=backend, experiments=qc, shots=10001)\n",
    "    result = job.result()\n",
    "\n",
    "    counts = result.get_counts()\n",
    "    counts_0 = {key[1:]:value for key, value in counts.items() if key[0] == '0'}\n",
    "    counts_1 = {key[1:]:value for key, value in counts.items() if key[0] == '1'}\n",
    "\n",
    "    return (interpret_des_swap(counts_0), interpret_des_swap(counts_1))"
   ]
  },
  {
   "cell_type": "code",
   "execution_count": 14,
   "metadata": {},
   "outputs": [],
   "source": [
    "def eval_classifier(data, labels, test, oracle, log=False):\n",
    "    data_bits = math.ceil(math.log2(data.shape[1]))\n",
    "    classifier = construct_destructive_classifier(oracle, data_bits)\n",
    "\n",
    "    label_names = [0,1]\n",
    "    correct = 0\n",
    "    count = 0\n",
    "    for index, row in test.iterrows():\n",
    "        label = row[4]\n",
    "        results = classify_destructive(row[[0,1]].tolist(), classifier)\n",
    "        cor = False\n",
    "        if results[0] > results[1] and label == labels[0]:\n",
    "            correct += 1\n",
    "            cor = True\n",
    "        elif results[0] < results[1] and label == labels[1]:\n",
    "            correct += 1\n",
    "            cor = True\n",
    "        count += 1\n",
    "        if log:\n",
    "            print(f\"features:({row[0]}, {row[1]}), label:{label}, result:{label_names[0]}:{results[0]}, {label_names[1]}:{results[1]}, {'correct' if cor else 'incorrect'}, accuracy:{correct / count}\")\n",
    "\n",
    "    return correct / len(test)\n",
    "    "
   ]
  },
  {
   "cell_type": "markdown",
   "metadata": {},
   "source": [
    "# Generator"
   ]
  },
  {
   "cell_type": "code",
   "execution_count": 16,
   "metadata": {},
   "outputs": [],
   "source": [
    "# n_features gets boiled down to amount of qubits necessary for it to work TODO: Change n_labels to do the same\n",
    "def build_variational_circuit(depth, generator_width, params=None, measurement=False):\n",
    "    # TODO: Add y and z rotations\n",
    "    n_qubits = generator_width\n",
    "    \n",
    "    def seriessum(n):\n",
    "        n_sum = 0\n",
    "        for i in range(n):\n",
    "            n_sum += i\n",
    "        return n_sum\n",
    "    \n",
    "    n_rot_qubits_per_layer = n_qubits * 2\n",
    "    n_qubits_per_layer = n_rot_qubits_per_layer + seriessum(n_qubits)\n",
    "    n_entangle_qubits_per_layer = seriessum(n_qubits)\n",
    "    \n",
    "#     print(params)\n",
    "    \n",
    "    if params is None:\n",
    "        params = np.random.rand(depth * (n_rot_qubits_per_layer + n_entangle_qubits_per_layer)) * math.pi\n",
    "    \n",
    "#     print(params)\n",
    "    \n",
    "#     print(len(params))\n",
    "    \n",
    "    q = QuantumRegister(n_qubits)\n",
    "    if measurement:\n",
    "        c = ClassicalRegister(n_qubits)\n",
    "        qc = QuantumCircuit(q, c)\n",
    "    else:\n",
    "        qc = QuantumCircuit(q)\n",
    "        \n",
    "    \n",
    "    # Dynamically add rx rotation and rxx entanglement gates\n",
    "    for i in range(depth):\n",
    "        for j in range(n_qubits):\n",
    "#             print(i * depth, j)\n",
    "#             print(i * n_qubits_per_layer, j, (i * n_qubits_per_layer) + j)\n",
    "            qc.rx(params[i * n_qubits_per_layer + j*2], j)\n",
    "            qc.rz(params[i * n_qubits_per_layer + j*2 + 1], j)\n",
    "        next_param = 0\n",
    "        for j in range(n_qubits):\n",
    "#             print(i * n_qubits_per_layer, j, (i * n_qubits_per_layer) + j)\n",
    "            for k in range(n_qubits):\n",
    "                if j == k or j < k:\n",
    "                    continue\n",
    "#                 print(i * n_qubits_per_layer + n_rot_qubits_per_layer + next_param)\n",
    "#                 print(i * n_rot_qubits_per_layer + j + next_param + n_rot_qubits_per_layer)\n",
    "                qc.rxx(params[i * n_qubits_per_layer + n_rot_qubits_per_layer + next_param], j, k)\n",
    "                next_param += 1\n",
    "        \n",
    "        if measurement:\n",
    "            qc.barrier()\n",
    "    \n",
    "    if measurement:\n",
    "        for i in range(n_qubits):\n",
    "            qc.measure(i, i)\n",
    "            \n",
    "    return qc\n",
    "      \n",
    "# build_variational_circuit(8, 2, 1, measurement=True).draw()"
   ]
  },
  {
   "cell_type": "code",
   "execution_count": 27,
   "metadata": {},
   "outputs": [],
   "source": [
    "def generate_params(circuit_depth, circuit_width):\n",
    "\n",
    "    n_qubits = circuit_width\n",
    "\n",
    "    def seriessum(n):\n",
    "        n_sum = 0\n",
    "        for i in range(n):\n",
    "            n_sum += i\n",
    "        return n_sum\n",
    "\n",
    "    n_rot_qubits_per_layer = n_qubits * 2\n",
    "    n_qubits_per_layer = n_qubits * 2 + seriessum(n_qubits)\n",
    "    n_entangle_qubits_per_layer = seriessum(n_qubits)\n",
    "\n",
    "    generated_params = np.random.rand(circuit_depth * (n_rot_qubits_per_layer + n_entangle_qubits_per_layer)) * math.pi\n",
    "\n",
    "    return generated_params"
   ]
  },
  {
   "cell_type": "code",
   "execution_count": 17,
   "metadata": {},
   "outputs": [
    {
     "data": {
      "text/plain": [
       "0.6111111111111112"
      ]
     },
     "execution_count": 17,
     "metadata": {},
     "output_type": "execute_result"
    }
   ],
   "source": [
    "eval_classifier(data, labels, test, build_variational_circuit(circuit_depth, circuit_width), log=False)"
   ]
  },
  {
   "cell_type": "markdown",
   "metadata": {},
   "source": [
    "# Gan"
   ]
  },
  {
   "cell_type": "code",
   "execution_count": 18,
   "metadata": {},
   "outputs": [
    {
     "data": {
      "text/html": [
       "<pre style=\"word-wrap: normal;white-space: pre;background: #fff0;line-height: 1.1;font-family: &quot;Courier New&quot;,Courier,monospace\">                       ┌───────┐┌─┐\n",
       "q2284_0: ──────────────┤0      ├┤M├\n",
       "         ┌────────────┐│       │└╥┘\n",
       "q2284_1: ┤0           ├┤1      ├─╫─\n",
       "         │  generator ││       │ ║ \n",
       "q2284_2: ┤1           ├┤2 swap ├─╫─\n",
       "         └┬─────────┬─┘│       │ ║ \n",
       "q2284_3: ─┤0        ├──┤3      ├─╫─\n",
       "          │         │  │       │ ║ \n",
       "q2284_4: ─┤1 oracle ├──┤4      ├─╫─\n",
       "          │         │  └───────┘ ║ \n",
       "q2284_5: ─┤2        ├────────────╫─\n",
       "          └─────────┘            ║ \n",
       "  c74: 1/════════════════════════╩═\n",
       "                                 0 </pre>"
      ],
      "text/plain": [
       "                       ┌───────┐┌─┐\n",
       "q2284_0: ──────────────┤0      ├┤M├\n",
       "         ┌────────────┐│       │└╥┘\n",
       "q2284_1: ┤0           ├┤1      ├─╫─\n",
       "         │  generator ││       │ ║ \n",
       "q2284_2: ┤1           ├┤2 swap ├─╫─\n",
       "         └┬─────────┬─┘│       │ ║ \n",
       "q2284_3: ─┤0        ├──┤3      ├─╫─\n",
       "          │         │  │       │ ║ \n",
       "q2284_4: ─┤1 oracle ├──┤4      ├─╫─\n",
       "          │         │  └───────┘ ║ \n",
       "q2284_5: ─┤2        ├────────────╫─\n",
       "          └─────────┘            ║ \n",
       "  c74: 1/════════════════════════╩═\n",
       "                                 0 "
      ]
     },
     "execution_count": 18,
     "metadata": {},
     "output_type": "execute_result"
    }
   ],
   "source": [
    "def build_gan_stack(depth, width, orcale, params=None):\n",
    "    n_data_qubits = width - 1\n",
    "    \n",
    "    generator = build_variational_circuit(depth, width, params=params)\n",
    "    \n",
    "    oracle_gate = oracle.to_gate(label=\"oracle\")\n",
    "    generator_gate = generator.to_gate(label=\"generator\")\n",
    "    \n",
    "    n_qubits = oracle.num_qubits + generator.num_qubits + 1\n",
    "    \n",
    "    q = QuantumRegister(n_qubits)\n",
    "    c = ClassicalRegister(1)\n",
    "    qc = QuantumCircuit(q, c)\n",
    "    \n",
    "    swap_ancilla = q[:1]\n",
    "    generator_qubits = q[1:generator.num_qubits + 1]\n",
    "    generator_output_qubits = q[1:1 + n_data_qubits + 1]\n",
    "    oracle_qubits = q[generator.num_qubits + 1:]\n",
    "    oracle_output_qubits = q[generator.num_qubits + 1: generator.num_qubits + 1 + n_data_qubits]\n",
    "    oracle_label_qubits = q[generator.num_qubits + 1 + n_data_qubits:generator.num_qubits + 1 + n_data_qubits + 1]\n",
    "\n",
    "    oracle_counting_qubits = q[generator.num_qubits + 1 + n_data_qubits + 1:]\n",
    "    \n",
    "    qc.append(generator_gate, generator_qubits)\n",
    "    qc.append(oracle_gate, oracle_qubits)\n",
    "    \n",
    "    swap_test_gate = swap(n_data_qubits + 1)\n",
    "    swap_test_qubits = swap_ancilla + generator_output_qubits + oracle_output_qubits + oracle_label_qubits\n",
    "#     print(len(generator_output_qubits), len(oracle_output_qubits), len(oracle_label_qubits))\n",
    "    \n",
    "    qc.append(swap_test_gate, swap_test_qubits)\n",
    "    \n",
    "    qc.measure(0, 0)\n",
    "    \n",
    "    return qc\n",
    "\n",
    "oracle, data_bits, counting_bits = construct_oracle(data, labels)\n",
    "build_gan_stack(circuit_depth, data_bits + 1, oracle).draw()"
   ]
  },
  {
   "cell_type": "code",
   "execution_count": 20,
   "metadata": {},
   "outputs": [
    {
     "data": {
      "text/html": [
       "<pre style=\"word-wrap: normal;white-space: pre;background: #fff0;line-height: 1.1;font-family: &quot;Courier New&quot;,Courier,monospace\">                       ┌───────┐┌─┐\n",
       "q2297_0: ──────────────┤0      ├┤M├\n",
       "         ┌────────────┐│       │└╥┘\n",
       "q2297_1: ┤0           ├┤1      ├─╫─\n",
       "         │            ││       │ ║ \n",
       "q2297_2: ┤1 generator ├┤2      ├─╫─\n",
       "         │            ││       │ ║ \n",
       "q2297_3: ┤2           ├┤3 swap ├─╫─\n",
       "         └┬─────────┬─┘│       │ ║ \n",
       "q2297_4: ─┤0        ├──┤4      ├─╫─\n",
       "          │         │  │       │ ║ \n",
       "q2297_5: ─┤1 oracle ├──┤5      ├─╫─\n",
       "          │         │  │       │ ║ \n",
       "q2297_6: ─┤2        ├──┤6      ├─╫─\n",
       "          └─────────┘  └───────┘ ║ \n",
       "  c75: 1/════════════════════════╩═\n",
       "                                 0 </pre>"
      ],
      "text/plain": [
       "                       ┌───────┐┌─┐\n",
       "q2297_0: ──────────────┤0      ├┤M├\n",
       "         ┌────────────┐│       │└╥┘\n",
       "q2297_1: ┤0           ├┤1      ├─╫─\n",
       "         │            ││       │ ║ \n",
       "q2297_2: ┤1 generator ├┤2      ├─╫─\n",
       "         │            ││       │ ║ \n",
       "q2297_3: ┤2           ├┤3 swap ├─╫─\n",
       "         └┬─────────┬─┘│       │ ║ \n",
       "q2297_4: ─┤0        ├──┤4      ├─╫─\n",
       "          │         │  │       │ ║ \n",
       "q2297_5: ─┤1 oracle ├──┤5      ├─╫─\n",
       "          │         │  │       │ ║ \n",
       "q2297_6: ─┤2        ├──┤6      ├─╫─\n",
       "          └─────────┘  └───────┘ ║ \n",
       "  c75: 1/════════════════════════╩═\n",
       "                                 0 "
      ]
     },
     "execution_count": 20,
     "metadata": {},
     "output_type": "execute_result"
    }
   ],
   "source": [
    "def build_gan_stack_with_count(depth, width, oracle, params=None):\n",
    "#     oracle, n_data_qubits, n_counting_qubits = construct_oracle(data, labels)\n",
    "#     width = oracle.num_qubits\n",
    "    generator = build_variational_circuit(depth, width, params=params)\n",
    "    \n",
    "    oracle_gate = oracle.to_gate(label=\"oracle\")\n",
    "    generator_gate = generator.to_gate(label=\"generator\")\n",
    "    \n",
    "    n_qubits = oracle.num_qubits + generator.num_qubits + 1\n",
    "    \n",
    "    q = QuantumRegister(n_qubits)\n",
    "    c = ClassicalRegister(1)\n",
    "    qc = QuantumCircuit(q, c)\n",
    "    \n",
    "    swap_ancilla = q[:1]\n",
    "    generator_qubits = q[1:generator.num_qubits + 1]\n",
    "#     generator_output_qubits = q[1:1 + width]\n",
    "    oracle_qubits = q[generator.num_qubits + 1:]\n",
    "#     oracle_output_qubits = q[generator.num_qubits + 1: generator.num_qubits + width]\n",
    "#     oracle_label_qubits = q[generator.num_qubits + 1 + width - 1:generator.num_qubits + width + 1]\n",
    "\n",
    "#     oracle_counting_qubits = q[generator.num_qubits + 1 + n_data_qubits + 1:]\n",
    "    \n",
    "    qc.append(generator_gate, generator_qubits)\n",
    "    qc.append(oracle_gate, oracle_qubits)\n",
    "    \n",
    "    swap_test_gate = swap(oracle.num_qubits)\n",
    "    swap_test_qubits = swap_ancilla + generator_qubits + oracle_qubits\n",
    "#     print(len(generator_output_qubits), len(oracle_output_qubits), len(oracle_label_qubits))\n",
    "    \n",
    "    qc.append(swap_test_gate, swap_test_qubits)\n",
    "    \n",
    "    qc.measure(0, 0)\n",
    "    \n",
    "    return qc\n",
    "\n",
    "build_gan_stack_with_count(circuit_depth, circuit_width, construct_oracle(data, labels)[0]).draw()"
   ]
  },
  {
   "cell_type": "code",
   "execution_count": 32,
   "metadata": {},
   "outputs": [],
   "source": [
    "def train_gan(gan_builder, data, labels, iterations):\n",
    "    intermediate_results = []\n",
    "\n",
    "    n_qubits = circuit_width\n",
    "\n",
    "    n_rot_qubits_per_layer = n_qubits * 2\n",
    "    n_qubits_per_layer = n_qubits * 2 + seriessum(n_qubits)\n",
    "    n_entangle_qubits_per_layer = seriessum(n_qubits)\n",
    "\n",
    "    param_size = circuit_depth * (n_rot_qubits_per_layer + n_entangle_qubits_per_layer)\n",
    "    total_runs = 0\n",
    "    \n",
    "    oracle,_,_ = construct_oracle(data, labels)\n",
    "    init_params = generate_params(circuit_depth, circuit_width)\n",
    "\n",
    "    \n",
    "    best_result = -np.Inf\n",
    "    best_params = init_params\n",
    "    \n",
    "    \n",
    "\n",
    "    def objective_function(params):\n",
    "        nonlocal total_runs\n",
    "        nonlocal best_result\n",
    "        nonlocal best_params\n",
    "        params.shape = (params.size // param_size, param_size)\n",
    "        results = []\n",
    "        tracked_inter_res = False\n",
    "\n",
    "        total_runs += params.shape[0]\n",
    "        for param_set in params:\n",
    "            # construct circuit with given params\n",
    "            qc = gan_builder(circuit_depth, circuit_width, oracle, param_set)\n",
    "\n",
    "            backend = Aer.get_backend('qasm_simulator')\n",
    "            job = execute(backend=backend, experiments=qc, shots=100000)\n",
    "            counts = job.result().get_counts()\n",
    "\n",
    "            result = 2 * counts['0'] / sum(counts.values()) - 1\n",
    "            if not tracked_inter_res:\n",
    "                print(\"Intermediate:\", result)\n",
    "                print(\"total runs: \", total_runs)\n",
    "                intermediate_results.append(-result)\n",
    "                tracked_inter_res = True\n",
    "                \n",
    "            if result < best_result:\n",
    "                best_result = result\n",
    "                best_params = params\n",
    "            \n",
    "            results.append(-result)\n",
    "\n",
    "        return results\n",
    "\n",
    "\n",
    "    print(\"Initial parameters:\", init_params)\n",
    "    # objective_function(params)\n",
    "\n",
    "    # optimizer = COBYLA(maxiter=100)\n",
    "    optimizer = AQGD(maxiter=iterations)\n",
    "\n",
    "    ret = optimizer.optimize(num_vars=len(init_params), objective_function=objective_function, initial_point=init_params)\n",
    "\n",
    "    print(\"Supposed optimal parameters:\", ret)\n",
    "    plt.plot(intermediate_results)\n",
    "    plt.show()\n",
    "    return best_result, best_params\n"
   ]
  },
  {
   "cell_type": "code",
   "execution_count": 22,
   "metadata": {},
   "outputs": [
    {
     "name": "stdout",
     "output_type": "stream",
     "text": [
      "Initial parameters: [1.77777362 1.20822983 2.96099403 0.35224223 2.446795   1.45621826\n",
      " 1.4128937  1.57071106 1.16038866 0.68174144 1.32670708 2.28523294\n",
      " 2.99220815 1.22312407 3.1358539  1.21521277 0.66675794 0.86453518\n",
      " 1.55032737 0.44969678 2.48951501 1.61613414 1.17306179 0.45699197\n",
      " 2.08648776 1.70589266 1.04384471]\n"
     ]
    },
    {
     "name": "stderr",
     "output_type": "stream",
     "text": [
      "/home/leo/anaconda3/lib/python3.7/site-packages/qiskit/aqua/components/optimizers/optimizer.py:50: DeprecationWarning: The package qiskit.aqua.components.optimizers is deprecated. It was moved/refactored to qiskit.algorithms.optimizers (pip install qiskit-terra). For more information see <https://github.com/Qiskit/qiskit-aqua/blob/main/README.md#migration-guide>\n",
      "  'qiskit.algorithms.optimizers', 'qiskit-terra')\n"
     ]
    },
    {
     "name": "stdout",
     "output_type": "stream",
     "text": [
      "Intermediate: 0.008280000000000065\n",
      "total runs:  55\n",
      "Intermediate: 0.023360000000000047\n",
      "total runs:  110\n",
      "Intermediate: 0.12647999999999993\n",
      "total runs:  165\n",
      "Intermediate: 0.41574\n",
      "total runs:  220\n",
      "Intermediate: 0.6676200000000001\n",
      "total runs:  275\n",
      "Intermediate: 0.8288599999999999\n",
      "total runs:  330\n",
      "Intermediate: 0.9158200000000001\n",
      "total runs:  385\n",
      "Intermediate: 0.9544600000000001\n",
      "total runs:  440\n",
      "Intermediate: 0.97024\n",
      "total runs:  495\n",
      "Intermediate: 0.97844\n",
      "total runs:  550\n",
      "Intermediate: 0.9826999999999999\n",
      "total runs:  605\n",
      "Intermediate: 0.9849000000000001\n",
      "total runs:  660\n",
      "Intermediate: 0.9874400000000001\n",
      "total runs:  715\n",
      "Intermediate: 0.9902200000000001\n",
      "total runs:  770\n",
      "Intermediate: 0.9904599999999999\n",
      "total runs:  825\n",
      "Intermediate: 0.9917800000000001\n",
      "total runs:  880\n",
      "Intermediate: 0.99312\n",
      "total runs:  935\n",
      "Intermediate: 0.994\n",
      "total runs:  990\n",
      "Intermediate: 0.9946200000000001\n",
      "total runs:  1045\n",
      "Intermediate: 0.99474\n",
      "total runs:  1100\n",
      "Intermediate: 0.99468\n",
      "total runs:  1155\n",
      "Intermediate: 0.99566\n",
      "total runs:  1210\n",
      "Intermediate: 0.9966999999999999\n",
      "total runs:  1265\n",
      "Intermediate: 0.99702\n",
      "total runs:  1320\n",
      "Intermediate: 0.9971000000000001\n",
      "total runs:  1375\n",
      "Intermediate: 0.9976\n",
      "total runs:  1430\n",
      "Intermediate: 0.9982599999999999\n",
      "total runs:  1485\n",
      "Intermediate: 0.9978400000000001\n",
      "total runs:  1540\n",
      "Intermediate: 0.9978400000000001\n",
      "total runs:  1595\n",
      "Intermediate: 0.9983599999999999\n",
      "total runs:  1650\n",
      "Supposed optimal parameters: (array([1.60343904, 1.5062015 , 3.18483123, 0.21720849, 3.19005084,\n",
      "       1.55914403, 2.4072125 , 2.01495616, 1.00783314, 0.79543958,\n",
      "       0.56143936, 2.73391294, 3.09316325, 1.56977604, 3.25495421,\n",
      "       0.88586671, 1.06969099, 0.57226461, 1.65063363, 0.01353272,\n",
      "       2.0778866 , 1.21159506, 0.64127462, 0.96094348, 2.62173716,\n",
      "       2.22695286, 0.97657103]), -0.9983599999999999, 1650)\n"
     ]
    },
    {
     "data": {
      "image/png": "[encoded data removed]",
      "text/plain": [
       "<Figure size 432x288 with 1 Axes>"
      ]
     },
     "metadata": {
      "needs_background": "light"
     },
     "output_type": "display_data"
    }
   ],
   "source": []
  },
  {
   "cell_type": "markdown",
   "metadata": {},
   "source": [
    "# evaluation"
   ]
  },
  {
   "cell_type": "code",
   "execution_count": 23,
   "metadata": {},
   "outputs": [
    {
     "name": "stdout",
     "output_type": "stream",
     "text": [
      "features:(5.0, 3.3), label:0.0, result:0:0.9996008780682499, 1:0.9791583166332665, correct, accuracy:1.0\n",
      "features:(5.0, 3.6), label:0.0, result:0:0.9995964487489912, 1:0.9766105054509415, correct, accuracy:1.0\n",
      "features:(5.1, 3.8), label:0.0, result:0:0.995164215192424, 1:0.9690353314807463, correct, accuracy:1.0\n",
      "features:(7.2, 3.0), label:1.0, result:0:0.9675285628382442, 1:0.9968076616121309, correct, accuracy:1.0\n",
      "features:(5.0, 3.5), label:0.0, result:0:0.99839518555667, 1:0.9716905901116428, correct, accuracy:1.0\n",
      "features:(5.4, 3.7), label:0.0, result:0:0.999603410668253, 1:0.9786204114562322, correct, accuracy:1.0\n",
      "features:(6.3, 2.9), label:1.0, result:0:0.9785901838012523, 1:1.0, correct, accuracy:1.0\n",
      "features:(4.4, 3.2), label:0.0, result:0:0.9952076677316295, 1:0.9647506509112758, correct, accuracy:1.0\n",
      "features:(6.4, 3.2), label:1.0, result:0:0.9905269390171698, 1:0.999189298743413, correct, accuracy:1.0\n",
      "features:(4.5, 2.3), label:0.0, result:0:0.9908784453698196, 1:0.9991932230738201, incorrect, accuracy:0.9\n",
      "features:(4.9, 3.1), label:0.0, result:0:1.0, 1:0.9835010060362173, correct, accuracy:0.9090909090909091\n",
      "features:(4.8, 3.1), label:0.0, result:0:1.0, 1:0.9869255150554674, correct, accuracy:0.9166666666666666\n",
      "features:(4.7, 3.2), label:0.0, result:0:1.0, 1:0.9786223277909738, correct, accuracy:0.9230769230769231\n",
      "features:(6.5, 3.0), label:1.0, result:0:0.9776759019334265, 1:1.0, correct, accuracy:0.9285714285714286\n",
      "features:(5.2, 4.1), label:0.0, result:0:0.9873392680514341, 1:0.9587545491306106, correct, accuracy:0.9333333333333333\n",
      "features:(6.7, 3.0), label:1.0, result:0:0.97671617824167, 1:0.9988045427375971, correct, accuracy:0.9375\n",
      "features:(5.1, 3.3), label:0.0, result:0:1.0, 1:0.9852177387135437, correct, accuracy:0.9411764705882353\n",
      "features:(5.2, 3.5), label:0.0, result:0:0.9995958779551424, 1:0.9754552652414885, correct, accuracy:0.9444444444444444\n",
      "features:(5.1, 3.4), label:0.0, result:0:1.0, 1:0.9810101010101011, correct, accuracy:0.9473684210526315\n",
      "features:(4.6, 3.2), label:0.0, result:0:0.997978572872448, 1:0.9742777997625642, correct, accuracy:0.95\n",
      "features:(7.2, 3.2), label:1.0, result:0:0.979472730931777, 1:1.0, correct, accuracy:0.9523809523809523\n",
      "features:(6.9, 3.2), label:1.0, result:0:0.9816663271542065, 1:0.9996072270227809, correct, accuracy:0.9545454545454546\n",
      "features:(6.5, 3.2), label:1.0, result:0:0.9882949668357395, 1:0.9995897435897436, correct, accuracy:0.9565217391304348\n",
      "features:(4.6, 3.6), label:0.0, result:0:0.9879324215607401, 1:0.9522767945913702, correct, accuracy:0.9583333333333334\n",
      "features:(5.0, 3.4), label:0.0, result:0:0.9991808314560722, 1:0.9749902305588121, correct, accuracy:0.96\n",
      "features:(6.3, 3.4), label:1.0, result:0:0.9943808950431468, 1:0.9984057393383818, correct, accuracy:0.9615384615384616\n",
      "features:(5.4, 3.9), label:0.0, result:0:0.9980154792617584, 1:0.9725916968964128, correct, accuracy:0.9629629629629629\n",
      "features:(4.9, 3.0), label:0.0, result:0:0.9995966928816293, 1:0.988099960333201, correct, accuracy:0.9642857142857143\n",
      "features:(6.4, 2.8), label:1.0, result:0:0.976550079491256, 1:0.999597504528074, correct, accuracy:0.9655172413793104\n",
      "features:(6.0, 3.0), label:1.0, result:0:0.9907145740815502, 1:1.0, correct, accuracy:0.9666666666666667\n",
      "features:(4.8, 3.0), label:0.0, result:0:1.0, 1:0.9876074355386768, correct, accuracy:0.967741935483871\n",
      "features:(5.1, 3.5), label:0.0, result:0:0.9983883964544722, 1:0.9789557276156442, correct, accuracy:0.96875\n",
      "features:(6.8, 3.0), label:1.0, result:0:0.978507704785077, 1:0.997632669165516, correct, accuracy:0.9696969696969697\n",
      "features:(6.3, 2.7), label:1.0, result:0:0.9718030182684669, 1:0.9979859013091641, correct, accuracy:0.9705882352941176\n",
      "features:(5.4, 3.9), label:0.0, result:0:0.996383363471971, 1:0.9701433121019107, correct, accuracy:0.9714285714285714\n",
      "features:(4.9, 2.5), label:1.0, result:0:0.9887999999999999, 1:0.9992001599680065, correct, accuracy:0.9722222222222222\n"
     ]
    },
    {
     "data": {
      "text/plain": [
       "0.9722222222222222"
      ]
     },
     "execution_count": 23,
     "metadata": {},
     "output_type": "execute_result"
    }
   ],
   "source": [
    "#accuracy with real data classifier\n",
    "eval_classifier(data, labels, test, construct_oracle(data, labels)[0], log=True)"
   ]
  },
  {
   "cell_type": "code",
   "execution_count": 31,
   "metadata": {},
   "outputs": [
    {
     "name": "stdout",
     "output_type": "stream",
     "text": [
      "Initial parameters: [2.14308363 0.57144376 0.29819602 3.06571545 2.52433055 2.98758625\n",
      " 2.93771863 2.13478725 2.91870504 2.23904388 0.47768037 0.90338339\n",
      " 2.75190833 0.0085128  2.71008185 0.97833272 2.3231811  0.08751679\n",
      " 1.63198025 2.82056789 2.21358594 1.72177991 0.33448913 0.3739359\n",
      " 2.00960307 1.4231355  1.76669504]\n",
      "Intermediate: 0.0480799999999999\n",
      "total runs:  55\n",
      "Intermediate: 0.1014600000000001\n",
      "total runs:  110\n",
      "Intermediate: 0.25102\n",
      "total runs:  165\n",
      "Intermediate: 0.4428000000000001\n",
      "total runs:  220\n",
      "Intermediate: 0.6287\n",
      "total runs:  275\n",
      "Intermediate: 0.8109599999999999\n",
      "total runs:  330\n",
      "Intermediate: 0.90682\n",
      "total runs:  385\n",
      "Intermediate: 0.9432400000000001\n",
      "total runs:  440\n",
      "Intermediate: 0.96302\n",
      "total runs:  495\n",
      "Intermediate: 0.97648\n",
      "total runs:  550\n",
      "Intermediate: 0.9834\n",
      "total runs:  605\n",
      "Intermediate: 0.98722\n",
      "total runs:  660\n",
      "Intermediate: 0.9901\n",
      "total runs:  715\n",
      "Intermediate: 0.99224\n",
      "total runs:  770\n",
      "Intermediate: 0.9927600000000001\n",
      "total runs:  825\n",
      "Intermediate: 0.9936400000000001\n",
      "total runs:  880\n",
      "Intermediate: 0.9948999999999999\n",
      "total runs:  935\n",
      "Intermediate: 0.9943200000000001\n",
      "total runs:  990\n",
      "Intermediate: 0.9956\n",
      "total runs:  1045\n",
      "Intermediate: 0.9956400000000001\n",
      "total runs:  1100\n",
      "Intermediate: 0.9960199999999999\n",
      "total runs:  1155\n",
      "Intermediate: 0.9962200000000001\n",
      "total runs:  1210\n",
      "Intermediate: 0.9969399999999999\n",
      "total runs:  1265\n",
      "Intermediate: 0.9968999999999999\n",
      "total runs:  1320\n",
      "Intermediate: 0.99692\n",
      "total runs:  1375\n",
      "Intermediate: 0.99688\n",
      "total runs:  1430\n",
      "Intermediate: 0.9972799999999999\n",
      "total runs:  1485\n",
      "Intermediate: 0.9974799999999999\n",
      "total runs:  1540\n",
      "Intermediate: 0.9974799999999999\n",
      "total runs:  1595\n",
      "Intermediate: 0.9976400000000001\n",
      "total runs:  1650\n",
      "Supposed optimal parameters: (array([ 2.15195882,  0.03232609,  0.90998867,  3.24047097,  2.53914275,\n",
      "        3.10490789,  3.26990889,  2.56359804,  1.76010671,  2.16870211,\n",
      "        0.80377477,  0.29402982,  2.46764523,  0.03090614,  3.27864263,\n",
      "        0.23307978,  2.43658573, -0.20677944,  1.10644346,  2.25016036,\n",
      "        2.70088448,  1.55842196,  0.26833953,  0.61053046,  2.0460682 ,\n",
      "        1.47627585,  1.78815963]), -0.9976400000000001, 1650)\n"
     ]
    },
    {
     "data": {
      "image/png": "[encoded data removed]",
      "text/plain": [
       "<Figure size 432x288 with 1 Axes>"
      ]
     },
     "metadata": {
      "needs_background": "light"
     },
     "output_type": "display_data"
    }
   ],
   "source": [
    "similarity, best_params = train_gan(build_gan_stack_with_count, data, labels, 20)"
   ]
  },
  {
   "cell_type": "code",
   "execution_count": 34,
   "metadata": {},
   "outputs": [
    {
     "ename": "TypeError",
     "evalue": "build_variational_circuit() missing 1 required positional argument: 'generator_width'",
     "output_type": "error",
     "traceback": [
      "\u001b[0;31m---------------------------------------------------------------------------\u001b[0m",
      "\u001b[0;31mTypeError\u001b[0m                                 Traceback (most recent call last)",
      "\u001b[0;32m<ipython-input-34-e3876f6f9362>\u001b[0m in \u001b[0;36m<module>\u001b[0;34m\u001b[0m\n\u001b[0;32m----> 1\u001b[0;31m \u001b[0mgenerator\u001b[0m \u001b[0;34m=\u001b[0m \u001b[0mbuild_variational_circuit\u001b[0m\u001b[0;34m(\u001b[0m\u001b[0mbuild_variational_circuit\u001b[0m\u001b[0;34m(\u001b[0m\u001b[0mcircuit_depth\u001b[0m\u001b[0;34m,\u001b[0m \u001b[0mcircuit_width\u001b[0m\u001b[0;34m,\u001b[0m \u001b[0mparams\u001b[0m \u001b[0;34m=\u001b[0m \u001b[0mbest_params\u001b[0m\u001b[0;34m)\u001b[0m\u001b[0;34m)\u001b[0m\u001b[0;34m\u001b[0m\u001b[0;34m\u001b[0m\u001b[0m\n\u001b[0m",
      "\u001b[0;31mTypeError\u001b[0m: build_variational_circuit() missing 1 required positional argument: 'generator_width'"
     ]
    }
   ],
   "source": [
    "generator = build_variational_circuit(build_variational_circuit(circuit_depth, circuit_width, params = best_params))"
   ]
  },
  {
   "cell_type": "code",
   "execution_count": null,
   "metadata": {},
   "outputs": [],
   "source": [
    "eval_classifier(data, labels, test, generator, log=True)"
   ]
  }
 ],
 "metadata": {
  "kernelspec": {
   "display_name": "Python 3",
   "language": "python",
   "name": "python3"
  },
  "language_info": {
   "codemirror_mode": {
    "name": "ipython",
    "version": 3
   },
   "file_extension": ".py",
   "mimetype": "text/x-python",
   "name": "python",
   "nbconvert_exporter": "python",
   "pygments_lexer": "ipython3",
   "version": "3.7.3"
  }
 },
 "nbformat": 4,
 "nbformat_minor": 2
}
