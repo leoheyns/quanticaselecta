{
 "cells": [
  {
   "cell_type": "code",
   "execution_count": 1,
   "metadata": {},
   "outputs": [],
   "source": [
    "from qiskit import QuantumCircuit, QuantumRegister, ClassicalRegister, Aer, execute, circuit, extensions\n",
    "import matplotlib.pyplot as plt\n",
    "import math\n",
    "import numpy as np\n",
    "from functools import reduce\n",
    "import pandas as pd\n",
    "from sklearn.model_selection import train_test_split\n",
    "from qiskit.visualization import plot_bloch_multivector\n",
    "from qiskit.quantum_info import Statevector\n",
    "from datetime import datetime\n",
    "from qiskit.aqua.components.optimizers import COBYLA, ADAM, AQGD, NFT"
   ]
  },
  {
   "cell_type": "markdown",
   "metadata": {},
   "source": [
    "# Constants"
   ]
  },
  {
   "cell_type": "code",
   "execution_count": 2,
   "metadata": {},
   "outputs": [],
   "source": [
    "#CONSTANTSSSSSS\n",
    "\n",
    "#data\n",
    "n_data_points = 8\n",
    "data_dimensionality = 2\n",
    "\n",
    "\n",
    "#generator constants\n",
    "circuit_depth = 1\n",
    "circuit_width = math.ceil(math.log2(data_dimensionality)) + 1 + math.ceil(math.log2(n_data_points))\n"
   ]
  },
  {
   "cell_type": "markdown",
   "metadata": {},
   "source": [
    "# Data prep"
   ]
  },
  {
   "cell_type": "code",
   "execution_count": 3,
   "metadata": {},
   "outputs": [],
   "source": [
    "df = pd.read_csv(\"bezdekIris.data\", header=None)\n",
    "#give classes numbers\n",
    "df[4] = [0 if p == \"Iris-setosa\" else 1 if p == \"Iris-virginica\" else 2 for p in df[4]]\n",
    "#reduce to just 2 classes\n",
    "df = df[df[4] != 2]"
   ]
  },
  {
   "cell_type": "code",
   "execution_count": 4,
   "metadata": {},
   "outputs": [],
   "source": [
    "train, test = train_test_split(df, test_size=0.36)\n",
    "data = train[[0,1]].to_numpy()\n",
    "labels = train[4].to_numpy()\n",
    "\n",
    "n_label0s = n_data_points / 2\n",
    "n_label1s = n_data_points / 2\n",
    "\n",
    "label0s = []\n",
    "label1s = []\n",
    "\n",
    "for i in range(len(labels)):\n",
    "    if labels[i] == 0 and n_label0s > 0:\n",
    "        n_label0s -= 1\n",
    "        label0s.append(i)\n",
    "        \n",
    "    if labels[i] == 1 and n_label1s > 0:\n",
    "        n_label1s -= 1\n",
    "        label1s.append(i)\n",
    "        \n",
    "    if n_label0s < 1 and n_label1s < 1:\n",
    "        break\n",
    "\n",
    "idx = label0s + label1s\n",
    "        \n",
    "data = data[idx]\n",
    "labels = labels[idx]"
   ]
  },
  {
   "cell_type": "markdown",
   "metadata": {},
   "source": [
    "# Helper functions"
   ]
  },
  {
   "cell_type": "code",
   "execution_count": 5,
   "metadata": {},
   "outputs": [],
   "source": [
    "def normalize(l):\n",
    "    normalization_factor = math.sqrt(sum([i ** 2 for i in l]))\n",
    "    return [i / normalization_factor for i in l]\n",
    "\n",
    "def init_gate(init_states, label=None, size=None):\n",
    "    if not size:\n",
    "        size = math.ceil(math.log2(len(init_states)))\n",
    "    state_vector = normalize(init_states) + [0] * ((2 ** size) - len(init_states))\n",
    "    #I know this is way ugly, but it's the easiest way to actualy turn initialize() into a gate\n",
    "    return extensions.Initialize(state_vector).gates_to_uncompute().inverse().to_gate(label=label if label else None)"
   ]
  },
  {
   "cell_type": "code",
   "execution_count": 6,
   "metadata": {},
   "outputs": [],
   "source": [
    "def x_indices(i, bits):\n",
    "    indices = []\n",
    "    for j in range(bits):\n",
    "        bit = (i >> j) & 1\n",
    "        if not bit:\n",
    "            indices.append(j)\n",
    "    return indices"
   ]
  },
  {
   "cell_type": "code",
   "execution_count": 7,
   "metadata": {},
   "outputs": [],
   "source": [
    "def destructive_swap(n):\n",
    "    q = QuantumRegister(n * 2)\n",
    "    circuit = QuantumCircuit(q)\n",
    "    \n",
    "    for i in range(n):\n",
    "        circuit.cx(i, n+i)\n",
    "        circuit.h(i)\n",
    "    return circuit.to_gate(label=\"destructive_swap\")\n",
    "\n",
    "def interpret_des_swap(counts):\n",
    "    successes = 0\n",
    "    for k in counts:\n",
    "        #success if and of measurement has even parity, that's what the paper said\n",
    "        success = reduce(lambda b, p: (p == ('1', '1')) ^ b , zip(list(k[:len(k)//2]), list(k[len(k)//2:])), True)\n",
    "        if success:\n",
    "            successes += counts[k]\n",
    "    if sum(counts.values()) == 0:\n",
    "        return 0\n",
    "    return  2 * (successes / sum(counts.values())) - 1"
   ]
  },
  {
   "cell_type": "code",
   "execution_count": 8,
   "metadata": {},
   "outputs": [],
   "source": [
    "def swap(n):\n",
    "    q = QuantumRegister(n * 2 + 1)\n",
    "    circuit = QuantumCircuit(q)\n",
    "    circuit.h(q[0])\n",
    "    \n",
    "    for i in range(0, n):\n",
    "        circuit.cswap(0, 1 + i, 1 + n+i)\n",
    "    circuit.h(q[0])\n",
    "#     print(circuit)\n",
    "    return circuit.to_gate(label=\"swap\")\n",
    "# swap(2)"
   ]
  },
  {
   "cell_type": "code",
   "execution_count": 9,
   "metadata": {},
   "outputs": [],
   "source": [
    "def seriessum(n):\n",
    "    n_sum = 0\n",
    "    for i in range(n):\n",
    "        n_sum += i\n",
    "    return n_sum"
   ]
  },
  {
   "cell_type": "markdown",
   "metadata": {},
   "source": [
    "# Oracle meuk"
   ]
  },
  {
   "cell_type": "code",
   "execution_count": 10,
   "metadata": {},
   "outputs": [],
   "source": [
    "def construct_oracle(data, labels):\n",
    "    # gate = init_gate([0,2,10], \"psi_0\")\n",
    "    data_bits = math.ceil(math.log2(data.shape[1]))\n",
    "    counting_bits = math.ceil(math.log2(data.shape[0]))\n",
    "    q = QuantumRegister(data_bits + counting_bits + 1)\n",
    "    qc = QuantumCircuit(q)\n",
    "\n",
    "#     data = [[x,x*2,x**2] for x in range(1, 16)]\n",
    "    qc.h(q[data_bits + 1:])\n",
    "    for i in range(len(data)):\n",
    "        x_i = [data_bits + 1 + x_i for x_i in x_indices(i,counting_bits)]\n",
    "        if len(x_i) > 0:\n",
    "            qc.x(x_i)\n",
    "        gate = init_gate(data[i], f\"psi_{i}\", data_bits).control(counting_bits)\n",
    "        qc.append(gate, q[data_bits + 1:] + q[:data_bits])\n",
    "        if labels[i] == 1:\n",
    "            x_gate = circuit.library.XGate().control(counting_bits)\n",
    "            qc.append(x_gate, q[data_bits + 1:] + [q[data_bits]])\n",
    "\n",
    "        if len(x_i) > 0:\n",
    "            qc.x(x_i)\n",
    "    return qc, data_bits, counting_bits"
   ]
  },
  {
   "cell_type": "code",
   "execution_count": 11,
   "metadata": {},
   "outputs": [
    {
     "data": {
      "image/png": "[encoded data removed]",
      "text/plain": [
       "<Figure size 432x288 with 1 Axes>"
      ]
     },
     "metadata": {
      "needs_background": "light"
     },
     "output_type": "display_data"
    }
   ],
   "source": [
    "plt.scatter(x=data[:, 0], y=data[:, 1], c=labels)\n",
    "plt.xlim([0,7])\n",
    "plt.ylim([0,7])\n",
    "\n",
    "plt.show()"
   ]
  },
  {
   "cell_type": "markdown",
   "metadata": {},
   "source": [
    "# Classifier"
   ]
  },
  {
   "cell_type": "code",
   "execution_count": 12,
   "metadata": {},
   "outputs": [],
   "source": [
    "def construct_destructive_classifier(oracle, data_bits, oracle_label=\"oracle\"):\n",
    "    oracle_gate = oracle.to_gate(label=oracle_label)\n",
    "\n",
    "    q = QuantumRegister(data_bits + oracle.num_qubits)\n",
    "    c = ClassicalRegister(data_bits * 2 + 1)\n",
    "    qc = QuantumCircuit(q, c)\n",
    "    \n",
    "    qc.append(oracle, q[data_bits:])\n",
    "    qc.append(destructive_swap(data_bits), q[:data_bits] + q[data_bits:data_bits+data_bits])\n",
    "    for i in range(data_bits * 2 + 1):\n",
    "        qc.measure(i,i)\n",
    "    return qc"
   ]
  },
  {
   "cell_type": "code",
   "execution_count": 13,
   "metadata": {},
   "outputs": [],
   "source": [
    "def classify_destructive(inp, classifier):\n",
    "    num_qubits = classifier.num_qubits\n",
    "\n",
    "    data_size = math.ceil(math.log2(len(inp)))\n",
    "\n",
    "    num_cbits = data_size * 2 + 1\n",
    "\n",
    "\n",
    "    q = QuantumRegister(num_qubits)\n",
    "    c = ClassicalRegister(num_cbits)\n",
    "    qc = QuantumCircuit(q, c)\n",
    "\n",
    "    # inp_gate = init_gate([1,2,0,4])\n",
    "    inp_gate = init_gate(inp, label=\"input\", size=data_size)\n",
    "\n",
    "\n",
    "    qc.append(inp_gate, q[:data_size])\n",
    "    qc = qc.compose(classifier)\n",
    "    backend = Aer.get_backend('qasm_simulator')\n",
    "    job = execute(backend=backend, experiments=qc, shots=10001)\n",
    "    result = job.result()\n",
    "\n",
    "    counts = result.get_counts()\n",
    "    counts_0 = {key[1:]:value for key, value in counts.items() if key[0] == '0'}\n",
    "    counts_1 = {key[1:]:value for key, value in counts.items() if key[0] == '1'}\n",
    "\n",
    "    return (interpret_des_swap(counts_0), interpret_des_swap(counts_1))"
   ]
  },
  {
   "cell_type": "code",
   "execution_count": 34,
   "metadata": {},
   "outputs": [],
   "source": [
    "def eval_classifier(data, labels, test, oracle, log=False):\n",
    "    data_bits = math.ceil(math.log2(data.shape[1]))\n",
    "    classifier = construct_destructive_classifier(oracle, data_bits)\n",
    "\n",
    "    label_names = [0,1]\n",
    "    correct = 0\n",
    "    count = 0\n",
    "    \n",
    "    classification_results = []\n",
    "    \n",
    "    for index, row in test.iterrows():\n",
    "        label = row[4]\n",
    "        results = classify_destructive(row[[0,1]].tolist(), classifier)\n",
    "        cor = False\n",
    "        if results[0] > results[1]:\n",
    "            class_estimate = 0\n",
    "        else:\n",
    "            class_estimate = 1\n",
    "        \n",
    "        if results[0] > results[1] and label == labels[0]:\n",
    "            correct += 1\n",
    "            cor = True\n",
    "        elif results[0] < results[1] and label == labels[1]:\n",
    "            correct += 1\n",
    "            cor = True\n",
    "        count += 1\n",
    "        classification_results.append((class_estimate, results))\n",
    "        if log:\n",
    "            print(f\"features:({row[0]}, {row[1]}), label:{label}, result:{label_names[0]}:{results[0]}, {label_names[1]}:{results[1]}, {'correct' if cor else 'incorrect'}, accuracy:{correct / count}\")\n",
    "\n",
    "    return correct / len(test), classification_results\n",
    "    "
   ]
  },
  {
   "cell_type": "markdown",
   "metadata": {},
   "source": [
    "# Generator"
   ]
  },
  {
   "cell_type": "code",
   "execution_count": 15,
   "metadata": {},
   "outputs": [],
   "source": [
    "# n_features gets boiled down to amount of qubits necessary for it to work TODO: Change n_labels to do the same\n",
    "def build_variational_circuit(depth, generator_width, params=None, measurement=False):\n",
    "    # TODO: Add y and z rotations\n",
    "    n_qubits = generator_width\n",
    "    \n",
    "    def seriessum(n):\n",
    "        n_sum = 0\n",
    "        for i in range(n):\n",
    "            n_sum += i\n",
    "        return n_sum\n",
    "    \n",
    "    n_rot_qubits_per_layer = n_qubits * 2\n",
    "    n_qubits_per_layer = n_rot_qubits_per_layer + seriessum(n_qubits)\n",
    "    n_entangle_qubits_per_layer = seriessum(n_qubits)\n",
    "    \n",
    "#     print(params)\n",
    "    \n",
    "    if params is None:\n",
    "        params = np.random.rand(depth * (n_rot_qubits_per_layer + n_entangle_qubits_per_layer)) * math.pi\n",
    "    \n",
    "#     print(params)\n",
    "    \n",
    "#     print(len(params))\n",
    "    \n",
    "    q = QuantumRegister(n_qubits)\n",
    "    if measurement:\n",
    "        c = ClassicalRegister(n_qubits)\n",
    "        qc = QuantumCircuit(q, c)\n",
    "    else:\n",
    "        qc = QuantumCircuit(q)\n",
    "        \n",
    "    \n",
    "    # Dynamically add rx rotation and rxx entanglement gates\n",
    "    for i in range(depth):\n",
    "        for j in range(n_qubits):\n",
    "#             print(i * depth, j)\n",
    "#             print(i * n_qubits_per_layer, j, (i * n_qubits_per_layer) + j)\n",
    "            qc.rx(params[i * n_qubits_per_layer + j*2], j)\n",
    "            qc.rz(params[i * n_qubits_per_layer + j*2 + 1], j)\n",
    "        next_param = 0\n",
    "        for j in range(n_qubits):\n",
    "#             print(i * n_qubits_per_layer, j, (i * n_qubits_per_layer) + j)\n",
    "            for k in range(n_qubits):\n",
    "                if j == k or j < k:\n",
    "                    continue\n",
    "#                 print(i * n_qubits_per_layer + n_rot_qubits_per_layer + next_param)\n",
    "#                 print(i * n_rot_qubits_per_layer + j + next_param + n_rot_qubits_per_layer)\n",
    "                qc.rxx(params[i * n_qubits_per_layer + n_rot_qubits_per_layer + next_param], j, k)\n",
    "                next_param += 1\n",
    "        \n",
    "        if measurement:\n",
    "            qc.barrier()\n",
    "    \n",
    "    if measurement:\n",
    "        for i in range(n_qubits):\n",
    "            qc.measure(i, i)\n",
    "            \n",
    "    return qc\n",
    "      \n",
    "# build_variational_circuit(8, 2, 1, measurement=True).draw()"
   ]
  },
  {
   "cell_type": "code",
   "execution_count": 16,
   "metadata": {},
   "outputs": [],
   "source": [
    "def generate_params(circuit_depth, circuit_width):\n",
    "\n",
    "    n_qubits = circuit_width\n",
    "\n",
    "    def seriessum(n):\n",
    "        n_sum = 0\n",
    "        for i in range(n):\n",
    "            n_sum += i\n",
    "        return n_sum\n",
    "\n",
    "    n_rot_qubits_per_layer = n_qubits * 2\n",
    "    n_qubits_per_layer = n_qubits * 2 + seriessum(n_qubits)\n",
    "    n_entangle_qubits_per_layer = seriessum(n_qubits)\n",
    "\n",
    "    generated_params = np.random.rand(circuit_depth * (n_rot_qubits_per_layer + n_entangle_qubits_per_layer)) * math.pi\n",
    "\n",
    "    return generated_params"
   ]
  },
  {
   "cell_type": "code",
   "execution_count": 17,
   "metadata": {},
   "outputs": [
    {
     "data": {
      "text/plain": [
       "0.5555555555555556"
      ]
     },
     "execution_count": 17,
     "metadata": {},
     "output_type": "execute_result"
    }
   ],
   "source": [
    "eval_classifier(data, labels, test, build_variational_circuit(circuit_depth, circuit_width), log=False)"
   ]
  },
  {
   "cell_type": "markdown",
   "metadata": {},
   "source": [
    "# Gan"
   ]
  },
  {
   "cell_type": "code",
   "execution_count": 18,
   "metadata": {},
   "outputs": [
    {
     "data": {
      "text/html": [
       "<pre style=\"word-wrap: normal;white-space: pre;background: #fff0;line-height: 1.1;font-family: &quot;Courier New&quot;,Courier,monospace\">                       ┌───────┐┌─┐\n",
       "q1101_0: ──────────────┤0      ├┤M├\n",
       "         ┌────────────┐│       │└╥┘\n",
       "q1101_1: ┤0           ├┤1      ├─╫─\n",
       "         │  generator ││       │ ║ \n",
       "q1101_2: ┤1           ├┤2 swap ├─╫─\n",
       "         └┬─────────┬─┘│       │ ║ \n",
       "q1101_3: ─┤0        ├──┤3      ├─╫─\n",
       "          │         │  │       │ ║ \n",
       "q1101_4: ─┤1        ├──┤4      ├─╫─\n",
       "          │         │  └───────┘ ║ \n",
       "q1101_5: ─┤2 oracle ├────────────╫─\n",
       "          │         │            ║ \n",
       "q1101_6: ─┤3        ├────────────╫─\n",
       "          │         │            ║ \n",
       "q1101_7: ─┤4        ├────────────╫─\n",
       "          └─────────┘            ║ \n",
       "  c37: 1/════════════════════════╩═\n",
       "                                 0 </pre>"
      ],
      "text/plain": [
       "                       ┌───────┐┌─┐\n",
       "q1101_0: ──────────────┤0      ├┤M├\n",
       "         ┌────────────┐│       │└╥┘\n",
       "q1101_1: ┤0           ├┤1      ├─╫─\n",
       "         │  generator ││       │ ║ \n",
       "q1101_2: ┤1           ├┤2 swap ├─╫─\n",
       "         └┬─────────┬─┘│       │ ║ \n",
       "q1101_3: ─┤0        ├──┤3      ├─╫─\n",
       "          │         │  │       │ ║ \n",
       "q1101_4: ─┤1        ├──┤4      ├─╫─\n",
       "          │         │  └───────┘ ║ \n",
       "q1101_5: ─┤2 oracle ├────────────╫─\n",
       "          │         │            ║ \n",
       "q1101_6: ─┤3        ├────────────╫─\n",
       "          │         │            ║ \n",
       "q1101_7: ─┤4        ├────────────╫─\n",
       "          └─────────┘            ║ \n",
       "  c37: 1/════════════════════════╩═\n",
       "                                 0 "
      ]
     },
     "execution_count": 18,
     "metadata": {},
     "output_type": "execute_result"
    }
   ],
   "source": [
    "def build_gan_stack(depth, width, orcale, params=None):\n",
    "    n_data_qubits = width - 1\n",
    "    \n",
    "    generator = build_variational_circuit(depth, width, params=params)\n",
    "    \n",
    "    oracle_gate = oracle.to_gate(label=\"oracle\")\n",
    "    generator_gate = generator.to_gate(label=\"generator\")\n",
    "    \n",
    "    n_qubits = oracle.num_qubits + generator.num_qubits + 1\n",
    "    \n",
    "    q = QuantumRegister(n_qubits)\n",
    "    c = ClassicalRegister(1)\n",
    "    qc = QuantumCircuit(q, c)\n",
    "    \n",
    "    swap_ancilla = q[:1]\n",
    "    generator_qubits = q[1:generator.num_qubits + 1]\n",
    "    generator_output_qubits = q[1:1 + n_data_qubits + 1]\n",
    "    oracle_qubits = q[generator.num_qubits + 1:]\n",
    "    oracle_output_qubits = q[generator.num_qubits + 1: generator.num_qubits + 1 + n_data_qubits]\n",
    "    oracle_label_qubits = q[generator.num_qubits + 1 + n_data_qubits:generator.num_qubits + 1 + n_data_qubits + 1]\n",
    "\n",
    "    oracle_counting_qubits = q[generator.num_qubits + 1 + n_data_qubits + 1:]\n",
    "    \n",
    "    qc.append(generator_gate, generator_qubits)\n",
    "    qc.append(oracle_gate, oracle_qubits)\n",
    "    \n",
    "    swap_test_gate = swap(n_data_qubits + 1)\n",
    "    swap_test_qubits = swap_ancilla + generator_output_qubits + oracle_output_qubits + oracle_label_qubits\n",
    "#     print(len(generator_output_qubits), len(oracle_output_qubits), len(oracle_label_qubits))\n",
    "    \n",
    "    qc.append(swap_test_gate, swap_test_qubits)\n",
    "    \n",
    "    qc.measure(0, 0)\n",
    "    \n",
    "    return qc\n",
    "\n",
    "oracle, data_bits, counting_bits = construct_oracle(data, labels)\n",
    "build_gan_stack(circuit_depth, data_bits + 1, oracle).draw()"
   ]
  },
  {
   "cell_type": "code",
   "execution_count": 19,
   "metadata": {},
   "outputs": [
    {
     "data": {
      "text/html": [
       "<pre style=\"word-wrap: normal;white-space: pre;background: #fff0;line-height: 1.1;font-family: &quot;Courier New&quot;,Courier,monospace\">                        ┌────────┐┌─┐\n",
       " q1121_0: ──────────────┤0       ├┤M├\n",
       "          ┌────────────┐│        │└╥┘\n",
       " q1121_1: ┤0           ├┤1       ├─╫─\n",
       "          │            ││        │ ║ \n",
       " q1121_2: ┤1           ├┤2       ├─╫─\n",
       "          │            ││        │ ║ \n",
       " q1121_3: ┤2 generator ├┤3       ├─╫─\n",
       "          │            ││        │ ║ \n",
       " q1121_4: ┤3           ├┤4       ├─╫─\n",
       "          │            ││        │ ║ \n",
       " q1121_5: ┤4           ├┤5  swap ├─╫─\n",
       "          └┬─────────┬─┘│        │ ║ \n",
       " q1121_6: ─┤0        ├──┤6       ├─╫─\n",
       "           │         │  │        │ ║ \n",
       " q1121_7: ─┤1        ├──┤7       ├─╫─\n",
       "           │         │  │        │ ║ \n",
       " q1121_8: ─┤2 oracle ├──┤8       ├─╫─\n",
       "           │         │  │        │ ║ \n",
       " q1121_9: ─┤3        ├──┤9       ├─╫─\n",
       "           │         │  │        │ ║ \n",
       "q1121_10: ─┤4        ├──┤10      ├─╫─\n",
       "           └─────────┘  └────────┘ ║ \n",
       "   c38: 1/═════════════════════════╩═\n",
       "                                   0 </pre>"
      ],
      "text/plain": [
       "                        ┌────────┐┌─┐\n",
       " q1121_0: ──────────────┤0       ├┤M├\n",
       "          ┌────────────┐│        │└╥┘\n",
       " q1121_1: ┤0           ├┤1       ├─╫─\n",
       "          │            ││        │ ║ \n",
       " q1121_2: ┤1           ├┤2       ├─╫─\n",
       "          │            ││        │ ║ \n",
       " q1121_3: ┤2 generator ├┤3       ├─╫─\n",
       "          │            ││        │ ║ \n",
       " q1121_4: ┤3           ├┤4       ├─╫─\n",
       "          │            ││        │ ║ \n",
       " q1121_5: ┤4           ├┤5  swap ├─╫─\n",
       "          └┬─────────┬─┘│        │ ║ \n",
       " q1121_6: ─┤0        ├──┤6       ├─╫─\n",
       "           │         │  │        │ ║ \n",
       " q1121_7: ─┤1        ├──┤7       ├─╫─\n",
       "           │         │  │        │ ║ \n",
       " q1121_8: ─┤2 oracle ├──┤8       ├─╫─\n",
       "           │         │  │        │ ║ \n",
       " q1121_9: ─┤3        ├──┤9       ├─╫─\n",
       "           │         │  │        │ ║ \n",
       "q1121_10: ─┤4        ├──┤10      ├─╫─\n",
       "           └─────────┘  └────────┘ ║ \n",
       "   c38: 1/═════════════════════════╩═\n",
       "                                   0 "
      ]
     },
     "execution_count": 19,
     "metadata": {},
     "output_type": "execute_result"
    }
   ],
   "source": [
    "def build_gan_stack_with_count(depth, width, oracle, params=None):\n",
    "#     oracle, n_data_qubits, n_counting_qubits = construct_oracle(data, labels)\n",
    "#     width = oracle.num_qubits\n",
    "    generator = build_variational_circuit(depth, width, params=params)\n",
    "    \n",
    "    oracle_gate = oracle.to_gate(label=\"oracle\")\n",
    "    generator_gate = generator.to_gate(label=\"generator\")\n",
    "    \n",
    "    n_qubits = oracle.num_qubits + generator.num_qubits + 1\n",
    "    \n",
    "    q = QuantumRegister(n_qubits)\n",
    "    c = ClassicalRegister(1)\n",
    "    qc = QuantumCircuit(q, c)\n",
    "    \n",
    "    swap_ancilla = q[:1]\n",
    "    generator_qubits = q[1:generator.num_qubits + 1]\n",
    "#     generator_output_qubits = q[1:1 + width]\n",
    "    oracle_qubits = q[generator.num_qubits + 1:]\n",
    "#     oracle_output_qubits = q[generator.num_qubits + 1: generator.num_qubits + width]\n",
    "#     oracle_label_qubits = q[generator.num_qubits + 1 + width - 1:generator.num_qubits + width + 1]\n",
    "\n",
    "#     oracle_counting_qubits = q[generator.num_qubits + 1 + n_data_qubits + 1:]\n",
    "    \n",
    "    qc.append(generator_gate, generator_qubits)\n",
    "    qc.append(oracle_gate, oracle_qubits)\n",
    "    swap_test_gate = swap(oracle.num_qubits)\n",
    "    swap_test_qubits = swap_ancilla + generator_qubits + oracle_qubits\n",
    "#     print(len(generator_output_qubits), len(oracle_output_qubits), len(oracle_label_qubits))\n",
    "    \n",
    "    qc.append(swap_test_gate, swap_test_qubits)\n",
    "    \n",
    "    qc.measure(0, 0)\n",
    "    \n",
    "    return qc\n",
    "\n",
    "build_gan_stack_with_count(circuit_depth, circuit_width, construct_oracle(data, labels)[0]).draw()"
   ]
  },
  {
   "cell_type": "code",
   "execution_count": 20,
   "metadata": {},
   "outputs": [],
   "source": [
    "def train_gan(gan_builder, data, labels, iterations):\n",
    "    intermediate_results = []\n",
    "\n",
    "    n_qubits = circuit_width\n",
    "\n",
    "    n_rot_qubits_per_layer = n_qubits * 2\n",
    "    n_qubits_per_layer = n_qubits * 2 + seriessum(n_qubits)\n",
    "    n_entangle_qubits_per_layer = seriessum(n_qubits)\n",
    "\n",
    "    param_size = circuit_depth * (n_rot_qubits_per_layer + n_entangle_qubits_per_layer)\n",
    "    total_runs = 0\n",
    "    \n",
    "    oracle,_,_ = construct_oracle(data, labels)\n",
    "    init_params = generate_params(circuit_depth, circuit_width)\n",
    "\n",
    "    \n",
    "    best_result = -np.Inf\n",
    "    best_params = init_params\n",
    "    \n",
    "    \n",
    "\n",
    "    def objective_function(params):\n",
    "        nonlocal total_runs\n",
    "        nonlocal best_result\n",
    "        nonlocal best_params\n",
    "        params.shape = (params.size // param_size, param_size)\n",
    "        results = []\n",
    "        tracked_inter_res = False\n",
    "\n",
    "        total_runs += params.shape[0]\n",
    "        for param_set in params:\n",
    "            # construct circuit with given params\n",
    "            qc = gan_builder(circuit_depth, circuit_width, oracle, param_set)\n",
    "\n",
    "            backend = Aer.get_backend('qasm_simulator')\n",
    "            job = execute(backend=backend, experiments=qc, shots=100000)\n",
    "            counts = job.result().get_counts()\n",
    "\n",
    "            result = 2 * counts['0'] / sum(counts.values()) - 1\n",
    "            if not tracked_inter_res:\n",
    "                print(\"counts: \", counts)\n",
    "                print(\"Intermediate:\", result)\n",
    "                print(\"total runs: \", total_runs)\n",
    "                intermediate_results.append(-result)\n",
    "                tracked_inter_res = True\n",
    "                \n",
    "            if result > best_result:\n",
    "                best_result = result\n",
    "                best_params = param_set\n",
    "            \n",
    "            results.append(-result)\n",
    "\n",
    "        return results\n",
    "\n",
    "\n",
    "    print(\"Initial parameters:\", init_params)\n",
    "    # objective_function(params)\n",
    "\n",
    "    # optimizer = COBYLA(maxiter=100)\n",
    "    optimizer = AQGD(maxiter=iterations)\n",
    "\n",
    "    ret = optimizer.optimize(num_vars=len(init_params), objective_function=objective_function, initial_point=init_params)\n",
    "\n",
    "    print(\"Supposed optimal parameters:\", ret)\n",
    "    plt.plot(intermediate_results)\n",
    "    plt.show()\n",
    "    return best_result, best_params\n"
   ]
  },
  {
   "cell_type": "code",
   "execution_count": null,
   "metadata": {},
   "outputs": [],
   "source": []
  },
  {
   "cell_type": "markdown",
   "metadata": {},
   "source": [
    "# evaluation"
   ]
  },
  {
   "cell_type": "code",
   "execution_count": 35,
   "metadata": {},
   "outputs": [
    {
     "name": "stdout",
     "output_type": "stream",
     "text": [
      "features:(6.4, 2.8), label:1.0, result:0:0.9552179128348661, 1:1.0, incorrect, accuracy:0.0\n",
      "features:(6.0, 3.0), label:1.0, result:0:0.9732267732267732, 1:0.9979983987189751, incorrect, accuracy:0.0\n",
      "features:(5.9, 3.0), label:1.0, result:0:0.9711861061772251, 1:0.9979732468585327, incorrect, accuracy:0.0\n",
      "features:(6.7, 2.5), label:1.0, result:0:0.9192200557103065, 1:0.9943718592964823, incorrect, accuracy:0.0\n",
      "features:(5.0, 3.5), label:0.0, result:0:0.997983870967742, 1:0.9654830390795477, correct, accuracy:0.2\n",
      "features:(4.3, 3.0), label:0.0, result:0:0.9983942191890807, 1:0.9697150826857939, correct, accuracy:0.3333333333333333\n",
      "features:(5.4, 3.7), label:0.0, result:0:0.9987949387427195, 1:0.9693349263241737, correct, accuracy:0.42857142857142855\n",
      "features:(6.5, 3.2), label:1.0, result:0:0.9674698795180723, 1:0.9988050189205337, incorrect, accuracy:0.375\n",
      "features:(5.6, 2.8), label:1.0, result:0:0.9622110552763818, 1:0.998408276959809, incorrect, accuracy:0.3333333333333333\n",
      "features:(7.9, 3.8), label:1.0, result:0:0.9662039831019915, 1:0.9992047713717693, incorrect, accuracy:0.3\n",
      "features:(4.5, 2.3), label:0.0, result:0:0.9700837654567211, 1:0.9967916583116101, correct, accuracy:0.36363636363636365\n",
      "features:(6.3, 2.5), label:1.0, result:0:0.9284703980602143, 1:0.9968329374505147, incorrect, accuracy:0.3333333333333333\n",
      "features:(5.4, 3.9), label:0.0, result:0:0.9983779399837793, 1:0.9577826001183665, correct, accuracy:0.38461538461538464\n",
      "features:(7.7, 3.0), label:1.0, result:0:0.9306267244777295, 1:0.9979703673635072, incorrect, accuracy:0.35714285714285715\n",
      "features:(6.9, 3.2), label:1.0, result:0:0.9590945194598888, 1:0.9995971802618329, incorrect, accuracy:0.3333333333333333\n",
      "features:(4.9, 3.0), label:0.0, result:0:0.990829346092504, 1:0.9775325977933802, correct, accuracy:0.375\n",
      "features:(5.4, 3.9), label:0.0, result:0:0.9995988768551944, 1:0.9597208374875374, correct, accuracy:0.4117647058823529\n",
      "features:(7.2, 3.0), label:1.0, result:0:0.9421438478303943, 1:1.0, incorrect, accuracy:0.3888888888888889\n",
      "features:(4.6, 3.6), label:0.0, result:0:0.9972089314194577, 1:0.9430290872617852, correct, accuracy:0.42105263157894735\n",
      "features:(4.7, 3.2), label:0.0, result:0:0.9968241365621278, 1:0.9725972194237356, correct, accuracy:0.45\n",
      "features:(5.1, 3.5), label:0.0, result:0:0.9979854955680902, 1:0.9642644431209053, correct, accuracy:0.47619047619047616\n",
      "features:(4.7, 3.2), label:0.0, result:0:0.998380894555758, 1:0.9640316205533597, correct, accuracy:0.5\n",
      "features:(7.2, 3.2), label:1.0, result:0:0.9483069525145262, 1:1.0, incorrect, accuracy:0.4782608695652174\n",
      "features:(4.6, 3.4), label:0.0, result:0:1.0, 1:0.956017592962815, correct, accuracy:0.5\n",
      "features:(5.0, 3.3), label:0.0, result:0:0.9936796365791034, 1:0.974888618874038, correct, accuracy:0.52\n",
      "features:(4.4, 3.0), label:0.0, result:0:0.9967453213995119, 1:0.9708947885939037, correct, accuracy:0.5384615384615384\n",
      "features:(4.8, 3.1), label:0.0, result:0:0.9951554299555914, 1:0.9718644739449178, correct, accuracy:0.5555555555555556\n",
      "features:(6.3, 3.4), label:1.0, result:0:0.977245508982036, 1:0.9951913444199558, incorrect, accuracy:0.5357142857142857\n",
      "features:(5.1, 3.8), label:0.0, result:0:1.0, 1:0.9451890378075616, correct, accuracy:0.5517241379310345\n",
      "features:(5.8, 4.0), label:0.0, result:0:0.9979822437449557, 1:0.9643211100099107, correct, accuracy:0.5666666666666667\n",
      "features:(6.7, 3.0), label:1.0, result:0:0.9553948161543098, 1:0.999203821656051, incorrect, accuracy:0.5483870967741935\n",
      "features:(5.0, 3.4), label:0.0, result:0:0.9980095541401275, 1:0.9682539682539681, correct, accuracy:0.5625\n",
      "features:(7.7, 3.8), label:1.0, result:0:0.9604395604395604, 1:0.998799039231385, incorrect, accuracy:0.5454545454545454\n",
      "features:(6.2, 3.4), label:1.0, result:0:0.9825734549138805, 1:0.9909198578760363, incorrect, accuracy:0.5294117647058824\n",
      "features:(4.9, 3.1), label:0.0, result:0:0.9928415191887054, 1:0.9798873692679002, correct, accuracy:0.5428571428571428\n",
      "features:(5.1, 3.8), label:0.0, result:0:0.9991896272285252, 1:0.9522211253701875, correct, accuracy:0.5555555555555556\n"
     ]
    }
   ],
   "source": [
    "#accuracy with real data classifier\n",
    "accuracy_oracle, results_oracle = eval_classifier(data, labels, test, construct_oracle(data, labels)[0], log=True)"
   ]
  },
  {
   "cell_type": "code",
   "execution_count": 22,
   "metadata": {},
   "outputs": [
    {
     "name": "stdout",
     "output_type": "stream",
     "text": [
      "Initial parameters: [2.9644906  1.01441421 0.28890839 0.61147841 3.00388968 0.87562524\n",
      " 0.42878699 2.50236423 2.63875732 1.54884097 2.32945808 0.27226098\n",
      " 0.54674584 2.62282151 2.47046981 0.03901723 2.93716566 1.22521434\n",
      " 1.48127337 0.93912356]\n"
     ]
    },
    {
     "name": "stderr",
     "output_type": "stream",
     "text": [
      "/home/leo/anaconda3/lib/python3.7/site-packages/qiskit/aqua/components/optimizers/optimizer.py:50: DeprecationWarning: The package qiskit.aqua.components.optimizers is deprecated. It was moved/refactored to qiskit.algorithms.optimizers (pip install qiskit-terra). For more information see <https://github.com/Qiskit/qiskit-aqua/blob/main/README.md#migration-guide>\n",
      "  'qiskit.algorithms.optimizers', 'qiskit-terra')\n"
     ]
    },
    {
     "name": "stdout",
     "output_type": "stream",
     "text": [
      "counts:  {'1': 47878, '0': 52122}\n",
      "Intermediate: 0.04244000000000003\n",
      "total runs:  41\n",
      "counts:  {'1': 47547, '0': 52453}\n",
      "Intermediate: 0.049060000000000104\n",
      "total runs:  82\n",
      "counts:  {'1': 46813, '0': 53187}\n",
      "Intermediate: 0.06373999999999991\n",
      "total runs:  123\n",
      "counts:  {'1': 45768, '0': 54232}\n",
      "Intermediate: 0.08464000000000005\n",
      "total runs:  164\n",
      "counts:  {'0': 55134, '1': 44866}\n",
      "Intermediate: 0.1026800000000001\n",
      "total runs:  205\n",
      "counts:  {'0': 55897, '1': 44103}\n",
      "Intermediate: 0.11793999999999993\n",
      "total runs:  246\n",
      "counts:  {'1': 42918, '0': 57082}\n",
      "Intermediate: 0.14164\n",
      "total runs:  287\n",
      "counts:  {'1': 41685, '0': 58315}\n",
      "Intermediate: 0.1662999999999999\n",
      "total runs:  328\n",
      "counts:  {'1': 39721, '0': 60279}\n",
      "Intermediate: 0.2055800000000001\n",
      "total runs:  369\n",
      "counts:  {'1': 38376, '0': 61624}\n",
      "Intermediate: 0.23248000000000002\n",
      "total runs:  410\n",
      "counts:  {'0': 63668, '1': 36332}\n",
      "Intermediate: 0.27336000000000005\n",
      "total runs:  451\n",
      "counts:  {'1': 34223, '0': 65777}\n",
      "Intermediate: 0.31553999999999993\n",
      "total runs:  492\n",
      "counts:  {'1': 32182, '0': 67818}\n",
      "Intermediate: 0.35636\n",
      "total runs:  533\n",
      "counts:  {'0': 69676, '1': 30324}\n",
      "Intermediate: 0.3935200000000001\n",
      "total runs:  574\n",
      "counts:  {'1': 28445, '0': 71555}\n",
      "Intermediate: 0.43110000000000004\n",
      "total runs:  615\n",
      "counts:  {'1': 27364, '0': 72636}\n",
      "Intermediate: 0.45272\n",
      "total runs:  656\n",
      "counts:  {'0': 73387, '1': 26613}\n",
      "Intermediate: 0.46774000000000004\n",
      "total runs:  697\n",
      "counts:  {'1': 25868, '0': 74132}\n",
      "Intermediate: 0.48263999999999996\n",
      "total runs:  738\n",
      "counts:  {'1': 25880, '0': 74120}\n",
      "Intermediate: 0.48239999999999994\n",
      "total runs:  779\n",
      "counts:  {'1': 25709, '0': 74291}\n",
      "Intermediate: 0.4858199999999999\n",
      "total runs:  820\n",
      "Supposed optimal parameters: (array([2.05141471, 1.4999281 , 0.25167695, 0.78061756, 1.63653986,\n",
      "       1.52280845, 1.51510682, 1.62409855, 2.91838897, 1.25759746,\n",
      "       2.64014842, 0.65632713, 0.05026839, 3.00442023, 1.9878312 ,\n",
      "       0.02373457, 3.22019187, 1.46894997, 0.96977739, 0.42627776]), -0.4858199999999999, 820)\n"
     ]
    },
    {
     "data": {
      "image/png": "[encoded data removed]",
      "text/plain": [
       "<Figure size 432x288 with 1 Axes>"
      ]
     },
     "metadata": {
      "needs_background": "light"
     },
     "output_type": "display_data"
    }
   ],
   "source": [
    "similarity, best_params = train_gan(build_gan_stack_with_count, data, labels, 20)"
   ]
  },
  {
   "cell_type": "code",
   "execution_count": 26,
   "metadata": {},
   "outputs": [],
   "source": [
    "generator = build_variational_circuit(circuit_depth, circuit_width, params = best_params)"
   ]
  },
  {
   "cell_type": "code",
   "execution_count": 37,
   "metadata": {},
   "outputs": [
    {
     "name": "stdout",
     "output_type": "stream",
     "text": [
      "features:(6.4, 2.8), label:1.0, result:0:0.9207630227439472, 1:0.9817320703653587, incorrect, accuracy:0.0\n",
      "features:(6.0, 3.0), label:1.0, result:0:0.9455197132616489, 1:0.9910591471801926, incorrect, accuracy:0.0\n",
      "features:(5.9, 3.0), label:1.0, result:0:0.9400943396226416, 1:0.9895851414684951, incorrect, accuracy:0.0\n",
      "features:(6.7, 2.5), label:1.0, result:0:0.8935814841326652, 1:0.9762478485370052, incorrect, accuracy:0.0\n",
      "features:(5.0, 3.5), label:0.0, result:0:0.9922273500121448, 1:0.9714479945615229, correct, accuracy:0.2\n",
      "features:(4.3, 3.0), label:0.0, result:0:0.987053464397027, 1:0.9739279588336192, correct, accuracy:0.3333333333333333\n",
      "features:(5.4, 3.7), label:0.0, result:0:0.9923499880468563, 1:0.9755929872808524, correct, accuracy:0.42857142857142855\n",
      "features:(6.5, 3.2), label:1.0, result:0:0.948693358906737, 1:0.9862778730703259, incorrect, accuracy:0.375\n",
      "features:(5.6, 2.8), label:1.0, result:0:0.9468984962406015, 1:0.9881636205395996, incorrect, accuracy:0.3333333333333333\n",
      "features:(7.9, 3.8), label:1.0, result:0:0.9454926624737945, 1:0.9943938332165383, incorrect, accuracy:0.3\n",
      "features:(4.5, 2.3), label:0.0, result:0:0.9550295857988165, 1:0.9913434903047091, correct, accuracy:0.36363636363636365\n",
      "features:(6.3, 2.5), label:1.0, result:0:0.8839412600663192, 1:0.9764665166983908, incorrect, accuracy:0.3333333333333333\n",
      "features:(5.4, 3.9), label:0.0, result:0:0.9957163255592576, 1:0.9717192619417141, correct, accuracy:0.38461538461538464\n",
      "features:(7.7, 3.0), label:1.0, result:0:0.9004069906631553, 1:0.9769917582417582, incorrect, accuracy:0.35714285714285715\n",
      "features:(6.9, 3.2), label:1.0, result:0:0.9282639885222381, 1:0.9890015466575013, incorrect, accuracy:0.3333333333333333\n",
      "features:(4.9, 3.0), label:0.0, result:0:0.974921630094044, 1:0.9856508370345063, correct, accuracy:0.375\n",
      "features:(5.4, 3.9), label:0.0, result:0:0.996219281663516, 1:0.9646385855434216, correct, accuracy:0.4117647058823529\n",
      "features:(7.2, 3.0), label:1.0, result:0:0.910411622276029, 1:0.9778572645205246, incorrect, accuracy:0.3888888888888889\n",
      "features:(4.6, 3.6), label:0.0, result:0:0.9985611510791368, 1:0.9639855942376951, correct, accuracy:0.42105263157894735\n",
      "features:(4.7, 3.2), label:0.0, result:0:0.987689393939394, 1:0.9781893716461831, correct, accuracy:0.45\n",
      "features:(5.1, 3.5), label:0.0, result:0:0.992867332382311, 1:0.9806729939603107, correct, accuracy:0.47619047619047616\n",
      "features:(4.7, 3.2), label:0.0, result:0:0.9897388059701493, 1:0.9803955890075267, correct, accuracy:0.5\n",
      "features:(7.2, 3.2), label:1.0, result:0:0.9271695436273351, 1:0.9868329868329868, incorrect, accuracy:0.4782608695652174\n",
      "features:(4.6, 3.4), label:0.0, result:0:0.9967012252591894, 1:0.963870071217648, correct, accuracy:0.5\n",
      "features:(5.0, 3.3), label:0.0, result:0:0.9843786982248521, 1:0.979224376731302, correct, accuracy:0.52\n",
      "features:(4.4, 3.0), label:0.0, result:0:0.9886201991465149, 1:0.9782120006916826, correct, accuracy:0.5384615384615384\n",
      "features:(4.8, 3.1), label:0.0, result:0:0.9835191468734852, 1:0.9795744680851064, correct, accuracy:0.5555555555555556\n",
      "features:(6.3, 3.4), label:1.0, result:0:0.963276836158192, 1:0.9895706587867199, incorrect, accuracy:0.5357142857142857\n",
      "features:(5.1, 3.8), label:0.0, result:0:0.9933030375508252, 1:0.9663230240549827, correct, accuracy:0.5517241379310345\n",
      "features:(5.8, 4.0), label:0.0, result:0:0.9875180028804609, 1:0.9749785775492716, correct, accuracy:0.5666666666666667\n",
      "features:(6.7, 3.0), label:1.0, result:0:0.9321061439158498, 1:0.9910622206943966, incorrect, accuracy:0.5483870967741935\n",
      "features:(5.0, 3.4), label:0.0, result:0:0.9892996108949417, 1:0.9809814909152657, correct, accuracy:0.5625\n",
      "features:(7.7, 3.8), label:1.0, result:0:0.9366537717601546, 1:0.9884057971014493, incorrect, accuracy:0.5454545454545454\n",
      "features:(6.2, 3.4), label:1.0, result:0:0.9593121821264228, 1:0.9897820163487738, incorrect, accuracy:0.5294117647058824\n",
      "features:(4.9, 3.1), label:0.0, result:0:0.976777251184834, 1:0.9858156028368794, correct, accuracy:0.5428571428571428\n",
      "features:(5.1, 3.8), label:0.0, result:0:0.9954275262917238, 1:0.9704993779989337, correct, accuracy:0.5555555555555556\n"
     ]
    }
   ],
   "source": [
    "accuracy_generator, results_generator = eval_classifier(data, labels, test, generator, log=True)"
   ]
  },
  {
   "cell_type": "markdown",
   "metadata": {},
   "source": [
    "# random rondklooi meuk"
   ]
  },
  {
   "cell_type": "code",
   "execution_count": 39,
   "metadata": {},
   "outputs": [
    {
     "name": "stdout",
     "output_type": "stream",
     "text": [
      "generator: 1, oracle: 1\n",
      "True\n",
      "generator: 1, oracle: 1\n",
      "True\n",
      "generator: 1, oracle: 1\n",
      "True\n",
      "generator: 1, oracle: 1\n",
      "True\n",
      "generator: 0, oracle: 0\n",
      "True\n",
      "generator: 0, oracle: 0\n",
      "True\n",
      "generator: 0, oracle: 0\n",
      "True\n",
      "generator: 1, oracle: 1\n",
      "True\n",
      "generator: 1, oracle: 1\n",
      "True\n",
      "generator: 1, oracle: 1\n",
      "True\n",
      "generator: 1, oracle: 1\n",
      "True\n",
      "generator: 1, oracle: 1\n",
      "True\n",
      "generator: 0, oracle: 0\n",
      "True\n",
      "generator: 1, oracle: 1\n",
      "True\n",
      "generator: 1, oracle: 1\n",
      "True\n",
      "generator: 1, oracle: 0\n",
      "False\n",
      "generator: 0, oracle: 0\n",
      "True\n",
      "generator: 1, oracle: 1\n",
      "True\n",
      "generator: 0, oracle: 0\n",
      "True\n",
      "generator: 0, oracle: 0\n",
      "True\n",
      "generator: 0, oracle: 0\n",
      "True\n",
      "generator: 0, oracle: 0\n",
      "True\n",
      "generator: 1, oracle: 1\n",
      "True\n",
      "generator: 0, oracle: 0\n",
      "True\n",
      "generator: 0, oracle: 0\n",
      "True\n",
      "generator: 0, oracle: 0\n",
      "True\n",
      "generator: 0, oracle: 0\n",
      "True\n",
      "generator: 1, oracle: 1\n",
      "True\n",
      "generator: 0, oracle: 0\n",
      "True\n",
      "generator: 0, oracle: 0\n",
      "True\n",
      "generator: 1, oracle: 1\n",
      "True\n",
      "generator: 0, oracle: 0\n",
      "True\n",
      "generator: 1, oracle: 1\n",
      "True\n",
      "generator: 1, oracle: 1\n",
      "True\n",
      "generator: 1, oracle: 0\n",
      "False\n",
      "generator: 0, oracle: 0\n",
      "True\n"
     ]
    }
   ],
   "source": [
    "for i in range(len(results_generator)):\n",
    "    print(f\"generator: {results_generator[i][0]}, oracle: {results_oracle[i][0]}\")\n",
    "    print(results_generator[i][0] == results_oracle[i][0])"
   ]
  },
  {
   "cell_type": "code",
   "execution_count": 25,
   "metadata": {},
   "outputs": [
    {
     "ename": "NameError",
     "evalue": "name 'params_temp' is not defined",
     "output_type": "error",
     "traceback": [
      "\u001b[0;31m---------------------------------------------------------------------------\u001b[0m",
      "\u001b[0;31mNameError\u001b[0m                                 Traceback (most recent call last)",
      "\u001b[0;32m<ipython-input-25-4d1b4131ab09>\u001b[0m in \u001b[0;36m<module>\u001b[0;34m\u001b[0m\n\u001b[0;32m----> 1\u001b[0;31m \u001b[0mgen\u001b[0m \u001b[0;34m=\u001b[0m \u001b[0mbuild_variational_circuit\u001b[0m\u001b[0;34m(\u001b[0m\u001b[0mcircuit_depth\u001b[0m\u001b[0;34m,\u001b[0m \u001b[0mcircuit_width\u001b[0m\u001b[0;34m,\u001b[0m \u001b[0mparams\u001b[0m \u001b[0;34m=\u001b[0m \u001b[0mparams_temp\u001b[0m\u001b[0;34m)\u001b[0m\u001b[0;34m\u001b[0m\u001b[0;34m\u001b[0m\u001b[0m\n\u001b[0m\u001b[1;32m      2\u001b[0m \u001b[0;34m\u001b[0m\u001b[0m\n\u001b[1;32m      3\u001b[0m \u001b[0;34m\u001b[0m\u001b[0m\n\u001b[1;32m      4\u001b[0m \u001b[0mq\u001b[0m \u001b[0;34m=\u001b[0m \u001b[0mQuantumRegister\u001b[0m\u001b[0;34m(\u001b[0m\u001b[0mgen\u001b[0m\u001b[0;34m.\u001b[0m\u001b[0mnum_qubits\u001b[0m\u001b[0;34m)\u001b[0m\u001b[0;34m\u001b[0m\u001b[0;34m\u001b[0m\u001b[0m\n\u001b[1;32m      5\u001b[0m \u001b[0mc\u001b[0m \u001b[0;34m=\u001b[0m \u001b[0mClassicalRegister\u001b[0m\u001b[0;34m(\u001b[0m\u001b[0mgen\u001b[0m\u001b[0;34m.\u001b[0m\u001b[0mnum_qubits\u001b[0m\u001b[0;34m)\u001b[0m\u001b[0;34m\u001b[0m\u001b[0;34m\u001b[0m\u001b[0m\n",
      "\u001b[0;31mNameError\u001b[0m: name 'params_temp' is not defined"
     ]
    }
   ],
   "source": [
    "\n",
    "gen = build_variational_circuit(circuit_depth, circuit_width, params = params_temp)\n",
    "\n",
    "\n",
    "q = QuantumRegister(gen.num_qubits)\n",
    "c = ClassicalRegister(gen.num_qubits)\n",
    "qc = QuantumCircuit(q, c)\n",
    "qc = qc.compose(gen.to_gate(label=\"generator\"), q)\n",
    "qc.measure(q,c)\n",
    "\n",
    "print(qc)\n",
    "backend = Aer.get_backend('qasm_simulator')\n",
    "job = execute(backend=backend, experiments=qc, shots=10001)\n",
    "result = job.result()\n",
    "\n",
    "counts = result.get_counts()\n",
    "print(counts)"
   ]
  },
  {
   "cell_type": "code",
   "execution_count": null,
   "metadata": {},
   "outputs": [],
   "source": [
    "oracle = construct_oracle(data, labels)[0]\n",
    "\n",
    "\n",
    "q = QuantumRegister(oracle.num_qubits)\n",
    "c = ClassicalRegister(oracle.num_qubits)\n",
    "qc = QuantumCircuit(q, c)\n",
    "qc = qc.compose(oracle.to_gate(label=\"oracle\"), q)\n",
    "qc.measure(q,c)\n",
    "\n",
    "print(qc)\n",
    "backend = Aer.get_backend('qasm_simulator')\n",
    "job = execute(backend=backend, experiments=qc, shots=10001)\n",
    "result = job.result()\n",
    "\n",
    "counts = result.get_counts()\n",
    "print(counts)"
   ]
  },
  {
   "cell_type": "code",
   "execution_count": null,
   "metadata": {},
   "outputs": [],
   "source": [
    "params_temp = [0.73926341, 0.4859425 , 3.15413808, 1.09846455, 1.70353151,\n",
    "       2.68071482, 2.80887   , 1.6425901 , 1.73718207, 2.66143249,\n",
    "       2.5292339 , 1.27203534, 2.92013553, 1.39831892, 1.66727124,\n",
    "       2.01633055, 1.52301551, 2.66952307, 1.79887383, 1.63165804,\n",
    "       2.82912887, 1.60483317, 1.75210992, 1.54747312, 2.59690981,\n",
    "       2.11198036, 1.30576869]\n",
    "\n",
    "oracle = construct_oracle(data, labels)[0]\n",
    "qc =build_gan_stack_with_count(circuit_depth, circuit_width, oracle, params_temp)\n",
    "print(qc)\n",
    "backend = Aer.get_backend('qasm_simulator')\n",
    "job = execute(backend=backend, experiments=qc, shots=10001)\n",
    "result = job.result()\n",
    "\n",
    "counts = result.get_counts()\n",
    "print(counts)"
   ]
  }
 ],
 "metadata": {
  "kernelspec": {
   "display_name": "Python 3",
   "language": "python",
   "name": "python3"
  },
  "language_info": {
   "codemirror_mode": {
    "name": "ipython",
    "version": 3
   },
   "file_extension": ".py",
   "mimetype": "text/x-python",
   "name": "python",
   "nbconvert_exporter": "python",
   "pygments_lexer": "ipython3",
   "version": "3.7.3"
  }
 },
 "nbformat": 4,
 "nbformat_minor": 2
}
